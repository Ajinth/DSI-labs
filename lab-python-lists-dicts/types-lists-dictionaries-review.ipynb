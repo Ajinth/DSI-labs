{
 "cells": [
  {
   "cell_type": "markdown",
   "metadata": {},
   "source": [
    "<img src=\"http://imgur.com/1ZcRyrc.png\" style=\"float: left; margin: 20px; height: 55px\">\n",
    "\n",
    "## Review of python types, lists, and dictionaries\n",
    "\n",
    "_Author: Kiefer Katovich (SF)_\n",
    "\n",
    "---\n"
   ]
  },
  {
   "cell_type": "code",
   "execution_count": 2,
   "metadata": {
    "collapsed": true
   },
   "outputs": [],
   "source": [
    "# Enter Student names here:\n",
    "student_names = ['Mark', 'Tom', 'Ajinth', 'Marissa', 'Carl', 'Jerry', 'Lisa', 'Ben', 'Pernesso', 'Andrew', 'Pooja', 'Chris']"
   ]
  },
  {
   "cell_type": "markdown",
   "metadata": {},
   "source": [
    "# ---\n",
    "\n",
    "### 1. What are the types of the following variables?"
   ]
  },
  {
   "cell_type": "code",
   "execution_count": 3,
   "metadata": {},
   "outputs": [
    {
     "name": "stdout",
     "output_type": "stream",
     "text": [
      "<class 'int'>\n",
      "A is of type <class 'int'>\n",
      "b is a type <class 'float'>\n",
      "c is a type <class 'list'>\n",
      "d is a type <class 'dict'>\n",
      "e is a type <class 'tuple'>\n",
      "f is a type <class 'dict'>\n",
      "g is a type <class 'bool'>\n"
     ]
    }
   ],
   "source": [
    "a = 1\n",
    "b = 2.6\n",
    "c = [1,2,3,5,6]\n",
    "d = {'kiefer':'katovich', 'dave':'yerrington'}\n",
    "e = ('one', 'two', 'three')\n",
    "f = {1:{'key':'value'}, 2:{'key2':'value2'}}\n",
    "g = True\n",
    "h = False\n",
    "i = 'integer'\n",
    "\n",
    "print(type(a))\n",
    "print ('A is of type {}'.format(type(a)))\n",
    "print('b is a type {}'.format(type(b)))\n",
    "print('c is a type {}'.format(type(c)))\n",
    "print('d is a type {}'.format(type(d)))\n",
    "print('e is a type {}'.format(type(e)))\n",
    "print('f is a type {}'.format(type(f)))\n",
    "print('g is a type {}'.format(type(g)))"
   ]
  },
  {
   "cell_type": "markdown",
   "metadata": {},
   "source": [
    "---\n",
    "\n",
    "### 2. What is the difference between a \"mutable\" and \"immutable\" object?"
   ]
  },
  {
   "cell_type": "code",
   "execution_count": 3,
   "metadata": {
    "collapsed": true
   },
   "outputs": [],
   "source": [
    "# A: A mutable object is an object that can be changed such as a list or dictionary. While and immutable object as elements that can't be changed such as a tuple."
   ]
  },
  {
   "cell_type": "markdown",
   "metadata": {},
   "source": [
    "---\n",
    "\n",
    "### 3. Print the `student_names` list."
   ]
  },
  {
   "cell_type": "code",
   "execution_count": 4,
   "metadata": {},
   "outputs": [
    {
     "name": "stdout",
     "output_type": "stream",
     "text": [
      "['Mark', 'Tom', 'Ajinth', 'Marissa', 'Carl', 'Jerry', 'Lisa', 'Ben', 'Pernesso', 'Andrew', 'Pooja', 'Chris']\n"
     ]
    }
   ],
   "source": [
    "print(student_names)"
   ]
  },
  {
   "cell_type": "markdown",
   "metadata": {},
   "source": [
    "---\n",
    "\n",
    "### 4. Print the names of the first and last students in the list."
   ]
  },
  {
   "cell_type": "code",
   "execution_count": 6,
   "metadata": {},
   "outputs": [
    {
     "name": "stdout",
     "output_type": "stream",
     "text": [
      "Mark\n",
      "Chris\n"
     ]
    }
   ],
   "source": [
    "print(student_names[0])\n",
    "print(student_names[-1])"
   ]
  },
  {
   "cell_type": "markdown",
   "metadata": {},
   "source": [
    "---\n",
    "\n",
    "### 5. Print the first four names in the student list."
   ]
  },
  {
   "cell_type": "code",
   "execution_count": 8,
   "metadata": {},
   "outputs": [
    {
     "data": {
      "text/plain": [
       "['Mark', 'Tom', 'Ajinth', 'Marissa']"
      ]
     },
     "execution_count": 8,
     "metadata": {},
     "output_type": "execute_result"
    }
   ],
   "source": [
    "student_names[:4]"
   ]
  },
  {
   "cell_type": "markdown",
   "metadata": {},
   "source": [
    "---\n",
    "\n",
    "### 6. Combine the 9th and 10th student names into a single string, separated by a space.  Assign that string to a variable."
   ]
  },
  {
   "cell_type": "code",
   "execution_count": 7,
   "metadata": {},
   "outputs": [
    {
     "name": "stdout",
     "output_type": "stream",
     "text": [
      "Pernesso Andrew\n"
     ]
    }
   ],
   "source": []
  },
  {
   "cell_type": "markdown",
   "metadata": {},
   "source": [
    "---\n",
    "\n",
    "### 7. Append an animal to the list of animals."
   ]
  },
  {
   "cell_type": "code",
   "execution_count": 8,
   "metadata": {
    "collapsed": true
   },
   "outputs": [],
   "source": [
    "animals = ['duck', 'rat', 'boar', 'slug', 'mammoth', 'gazelle']"
   ]
  },
  {
   "cell_type": "code",
   "execution_count": 9,
   "metadata": {
    "scrolled": true
   },
   "outputs": [
    {
     "name": "stdout",
     "output_type": "stream",
     "text": [
      "['duck', 'rat', 'boar', 'slug', 'mammoth', 'gazelle']\n"
     ]
    }
   ],
   "source": [
    "print(animals)"
   ]
  },
  {
   "cell_type": "code",
   "execution_count": 10,
   "metadata": {
    "collapsed": true
   },
   "outputs": [],
   "source": [
    "animals.append('octopus')"
   ]
  },
  {
   "cell_type": "code",
   "execution_count": 11,
   "metadata": {},
   "outputs": [
    {
     "name": "stdout",
     "output_type": "stream",
     "text": [
      "['duck', 'rat', 'boar', 'slug', 'mammoth', 'gazelle', 'octopus']\n"
     ]
    }
   ],
   "source": [
    "print(animals)"
   ]
  },
  {
   "cell_type": "markdown",
   "metadata": {},
   "source": [
    "---\n",
    "\n",
    "### 8. Print the length of the animals list."
   ]
  },
  {
   "cell_type": "code",
   "execution_count": 12,
   "metadata": {},
   "outputs": [
    {
     "name": "stdout",
     "output_type": "stream",
     "text": [
      "7\n"
     ]
    }
   ],
   "source": [
    "print(len(animals))"
   ]
  },
  {
   "cell_type": "markdown",
   "metadata": {},
   "source": [
    "---\n",
    "\n",
    "### 9. Divide the length (of the string) of the fifth animal by the second."
   ]
  },
  {
   "cell_type": "code",
   "execution_count": 13,
   "metadata": {},
   "outputs": [
    {
     "name": "stdout",
     "output_type": "stream",
     "text": [
      "2.3333333333333335\n"
     ]
    }
   ],
   "source": [
    "animals = ['duck', 'rat', 'boar', 'slug', 'mammoth', 'gazelle']\n",
    "variable = len(animals[4]) / len(animals[1])\n",
    "print(variable)"
   ]
  },
  {
   "cell_type": "markdown",
   "metadata": {},
   "source": [
    "---\n",
    "\n",
    "### 10. Perform the same division, but ensure output is a decimal number."
   ]
  },
  {
   "cell_type": "code",
   "execution_count": 14,
   "metadata": {},
   "outputs": [
    {
     "name": "stdout",
     "output_type": "stream",
     "text": [
      "2.3333333333333335\n"
     ]
    }
   ],
   "source": [
    "print(float(variable))"
   ]
  },
  {
   "cell_type": "markdown",
   "metadata": {},
   "source": [
    "---\n",
    "\n",
    "### 11. Show two different ways to combine the animals list and the numbers list."
   ]
  },
  {
   "cell_type": "code",
   "execution_count": 15,
   "metadata": {
    "collapsed": true
   },
   "outputs": [],
   "source": [
    "numbers = [0., 0.1, 1., 10., 100., 1000.]"
   ]
  },
  {
   "cell_type": "code",
   "execution_count": 16,
   "metadata": {},
   "outputs": [
    {
     "name": "stdout",
     "output_type": "stream",
     "text": [
      "[0.0, 0.1, 1.0, 10.0, 100.0, 1000.0, 'duck', 'rat', 'boar', 'slug', 'mammoth', 'gazelle']\n"
     ]
    }
   ],
   "source": [
    "print(numbers + animals)"
   ]
  },
  {
   "cell_type": "code",
   "execution_count": 40,
   "metadata": {},
   "outputs": [
    {
     "name": "stdout",
     "output_type": "stream",
     "text": [
      "['duck', 'rat', 'boar', 'slug', 'mammoth', 'gazelle', 0.0, 0.1, 1.0, 10.0, 100.0, 1000.0]\n"
     ]
    }
   ],
   "source": [
    "new_list = zip(animals, numbers)\n",
    "new_list = [*animals, *numbers]\n",
    "print(new_list)"
   ]
  },
  {
   "cell_type": "markdown",
   "metadata": {},
   "source": [
    "---\n",
    "\n",
    "### 12. Remove 'kiefer' from the list and insert your own in its place."
   ]
  },
  {
   "cell_type": "code",
   "execution_count": 17,
   "metadata": {
    "collapsed": true
   },
   "outputs": [],
   "source": [
    "names = ['doug', 'billy', 'kiefer', 'kian', 'sam']"
   ]
  },
  {
   "cell_type": "code",
   "execution_count": 43,
   "metadata": {},
   "outputs": [
    {
     "data": {
      "text/plain": [
       "'kiefer'"
      ]
     },
     "execution_count": 43,
     "metadata": {},
     "output_type": "execute_result"
    }
   ],
   "source": [
    "names.pop(2)"
   ]
  },
  {
   "cell_type": "code",
   "execution_count": 44,
   "metadata": {},
   "outputs": [
    {
     "data": {
      "text/plain": [
       "['doug', 'billy', 'kian', 'sam']"
      ]
     },
     "execution_count": 44,
     "metadata": {},
     "output_type": "execute_result"
    }
   ],
   "source": [
    "names"
   ]
  },
  {
   "cell_type": "markdown",
   "metadata": {},
   "source": [
    "---\n",
    "\n",
    "### 13. Sort the following list."
   ]
  },
  {
   "cell_type": "code",
   "execution_count": 49,
   "metadata": {
    "collapsed": true
   },
   "outputs": [],
   "source": [
    "mix = [['billy', 'sam'], {'key':'value'}, 12.999, 12, 'flower', 'a', (1, 2, 3)]"
   ]
  },
  {
   "cell_type": "code",
   "execution_count": 121,
   "metadata": {},
   "outputs": [
    {
     "data": {
      "text/plain": [
       "['(1, 2, 3)',\n",
       " '12',\n",
       " '12.999',\n",
       " \"['billy', 'sam']\",\n",
       " 'a',\n",
       " 'flower',\n",
       " \"{'key': 'value'}\"]"
      ]
     },
     "execution_count": 121,
     "metadata": {},
     "output_type": "execute_result"
    }
   ],
   "source": [
    "sorted_mix = sorted([str(i) for i in mix])\n",
    "sorted_mix"
   ]
  },
  {
   "cell_type": "code",
   "execution_count": 73,
   "metadata": {},
   "outputs": [
    {
     "data": {
      "text/plain": [
       "[['billy', 'sam'], {'key': 'value'}, 12.999, 12, 'flower', 'a', (1, 2, 3)]"
      ]
     },
     "execution_count": 73,
     "metadata": {},
     "output_type": "execute_result"
    }
   ],
   "source": [
    "sorted"
   ]
  },
  {
   "cell_type": "markdown",
   "metadata": {},
   "source": [
    "---\n",
    "\n",
    "### 14. Manually check whether one element of `mix` is greater than another."
   ]
  },
  {
   "cell_type": "code",
   "execution_count": 75,
   "metadata": {
    "scrolled": true
   },
   "outputs": [
    {
     "data": {
      "text/plain": [
       "['(1, 2, 3)',\n",
       " '12',\n",
       " '12.999',\n",
       " \"['billy', 'sam']\",\n",
       " 'a',\n",
       " 'flower',\n",
       " \"{'key': 'value'}\"]"
      ]
     },
     "execution_count": 75,
     "metadata": {},
     "output_type": "execute_result"
    }
   ],
   "source": [
    "sorted_mix"
   ]
  },
  {
   "cell_type": "code",
   "execution_count": 87,
   "metadata": {},
   "outputs": [
    {
     "data": {
      "text/plain": [
       "[(1, 2, 3), 'a', 'flower', 12, 12.999, {'key': 'value'}, ['billy', 'sam']]"
      ]
     },
     "execution_count": 87,
     "metadata": {},
     "output_type": "execute_result"
    }
   ],
   "source": [
    "mix"
   ]
  },
  {
   "cell_type": "markdown",
   "metadata": {},
   "source": [
    "---\n",
    "\n",
    "### 15. Find the index of `'a'` in the list."
   ]
  },
  {
   "cell_type": "code",
   "execution_count": 78,
   "metadata": {},
   "outputs": [
    {
     "data": {
      "text/plain": [
       "5"
      ]
     },
     "execution_count": 78,
     "metadata": {},
     "output_type": "execute_result"
    }
   ],
   "source": [
    "mix.index('a')"
   ]
  },
  {
   "cell_type": "markdown",
   "metadata": {},
   "source": [
    "---\n",
    "\n",
    "### 16. Reverse the `mix` list."
   ]
  },
  {
   "cell_type": "code",
   "execution_count": 109,
   "metadata": {},
   "outputs": [
    {
     "data": {
      "text/plain": [
       "[['billy', 'sam'], {'key': 'value'}, 12.999, 12, 'flower', 'a', (1, 2, 3)]"
      ]
     },
     "execution_count": 109,
     "metadata": {},
     "output_type": "execute_result"
    }
   ],
   "source": [
    "reverse_mix = mix[::-1]\n",
    "reverse_mix"
   ]
  },
  {
   "cell_type": "markdown",
   "metadata": {},
   "source": [
    "---\n",
    "\n",
    "### 17. Remove the last element of `mix`,  and assign it to a variable."
   ]
  },
  {
   "cell_type": "code",
   "execution_count": 112,
   "metadata": {},
   "outputs": [
    {
     "data": {
      "text/plain": [
       "[['billy', 'sam'], {'key': 'value'}, 12.999, 12, 'flower', 'a', (1, 2, 3)]"
      ]
     },
     "execution_count": 112,
     "metadata": {},
     "output_type": "execute_result"
    }
   ],
   "source": [
    "mix.reverse()\n",
    "mix"
   ]
  },
  {
   "cell_type": "code",
   "execution_count": 113,
   "metadata": {},
   "outputs": [
    {
     "data": {
      "text/plain": [
       "[['billy', 'sam'], {'key': 'value'}, 12.999, 12, 'flower', 'a', (1, 2, 3)]"
      ]
     },
     "execution_count": 113,
     "metadata": {},
     "output_type": "execute_result"
    }
   ],
   "source": [
    "mix"
   ]
  },
  {
   "cell_type": "code",
   "execution_count": 115,
   "metadata": {},
   "outputs": [
    {
     "data": {
      "text/plain": [
       "[['billy', 'sam'], {'key': 'value'}, 12.999, 12, 'flower', 'a']"
      ]
     },
     "execution_count": 115,
     "metadata": {},
     "output_type": "execute_result"
    }
   ],
   "source": [
    "shorter_mix = mix[:-1]\n",
    "shorter_mix"
   ]
  },
  {
   "cell_type": "code",
   "execution_count": 119,
   "metadata": {},
   "outputs": [
    {
     "data": {
      "text/plain": [
       "(1, 2, 3)"
      ]
     },
     "execution_count": 119,
     "metadata": {},
     "output_type": "execute_result"
    }
   ],
   "source": [
    "last_e_mix = mix[-1]\n",
    "last_e_mix"
   ]
  },
  {
   "cell_type": "markdown",
   "metadata": {},
   "source": [
    "---\n",
    "\n",
    "### 18. Count the number of times `0` appears in the following list."
   ]
  },
  {
   "cell_type": "code",
   "execution_count": 25,
   "metadata": {
    "collapsed": true
   },
   "outputs": [],
   "source": [
    "binary = [0,1,1,0,1,0,1,1,1,1,0,0,1,0,0,1,0,1,1,0,0,1,1,0,1,1,0,0,0,1,1,1,0,1,0,1]"
   ]
  },
  {
   "cell_type": "code",
   "execution_count": 120,
   "metadata": {},
   "outputs": [
    {
     "name": "stdout",
     "output_type": "stream",
     "text": [
      "16\n"
     ]
    }
   ],
   "source": [
    "sum = 0\n",
    "for num in binary:\n",
    "    if binary[num] == 0:\n",
    "        sum += 1\n",
    "print(sum)"
   ]
  },
  {
   "cell_type": "markdown",
   "metadata": {},
   "source": [
    "---\n",
    "\n",
    "### 19. Create an SF (San Francisco) zipcode dictionary.\n",
    "\n",
    "With the following key:value pairs:\n",
    "\n",
    "    'sunset':94122\n",
    "    'presidio':94129\n",
    "    'soma':94105\n",
    "    'marina':94123"
   ]
  },
  {
   "cell_type": "code",
   "execution_count": 125,
   "metadata": {},
   "outputs": [
    {
     "data": {
      "text/plain": [
       "{'marina': 94123, 'presidio': 94129, 'soma': 94105, 'sunset': 94122}"
      ]
     },
     "execution_count": 125,
     "metadata": {},
     "output_type": "execute_result"
    }
   ],
   "source": [
    "sf_dict = {'sunset':94122,\n",
    "'presidio':94129,\n",
    "'soma':94105,\n",
    "'marina':94123}\n",
    "sf_dict"
   ]
  },
  {
   "cell_type": "markdown",
   "metadata": {},
   "source": [
    "---\n",
    "\n",
    "### 20. Get the zipcode for `'soma'`, and assign it to a variable."
   ]
  },
  {
   "cell_type": "code",
   "execution_count": 129,
   "metadata": {},
   "outputs": [
    {
     "data": {
      "text/plain": [
       "94105"
      ]
     },
     "execution_count": 129,
     "metadata": {},
     "output_type": "execute_result"
    }
   ],
   "source": [
    "soma_zip = sf_dict['soma']\n",
    "soma_zip"
   ]
  },
  {
   "cell_type": "markdown",
   "metadata": {},
   "source": [
    "---\n",
    "\n",
    "### 21. Get the keys out of the dictionary."
   ]
  },
  {
   "cell_type": "code",
   "execution_count": 130,
   "metadata": {},
   "outputs": [
    {
     "name": "stdout",
     "output_type": "stream",
     "text": [
      "sunset\n",
      "presidio\n",
      "soma\n",
      "marina\n"
     ]
    }
   ],
   "source": [
    "for key in sf_dict:\n",
    "    print(key)"
   ]
  },
  {
   "cell_type": "markdown",
   "metadata": {},
   "source": [
    "---\n",
    "\n",
    "### 22. Add the castro district to the dictionary with zipcode 94114."
   ]
  },
  {
   "cell_type": "code",
   "execution_count": 150,
   "metadata": {},
   "outputs": [
    {
     "data": {
      "text/plain": [
       "{'castro': 94114,\n",
       " 'marina': 94123,\n",
       " 'presidio': 94129,\n",
       " 'soma': 94105,\n",
       " 'sunset': 94122}"
      ]
     },
     "execution_count": 150,
     "metadata": {},
     "output_type": "execute_result"
    }
   ],
   "source": [
    "sf_dict['castro'] = 94114\n",
    "sf_dict"
   ]
  },
  {
   "cell_type": "markdown",
   "metadata": {},
   "source": [
    "---\n",
    "\n",
    "### 23. Combine the following smaller dictionary of districts with the SF zip codedictionary."
   ]
  },
  {
   "cell_type": "code",
   "execution_count": 153,
   "metadata": {},
   "outputs": [
    {
     "data": {
      "text/plain": [
       "{'dogpatch': 94107, 'outer_richmond': 94121}"
      ]
     },
     "execution_count": 153,
     "metadata": {},
     "output_type": "execute_result"
    }
   ],
   "source": [
    "small = {'outer_richmond':94121, 'dogpatch':94107}\n",
    "small"
   ]
  },
  {
   "cell_type": "code",
   "execution_count": 157,
   "metadata": {},
   "outputs": [
    {
     "data": {
      "text/plain": [
       "{'castro': 94114,\n",
       " 'dogpatch': 94107,\n",
       " 'marina': 94123,\n",
       " 'outer_richmond': 94121,\n",
       " 'presidio': 94129,\n",
       " 'soma': 94105,\n",
       " 'sunset': 94122}"
      ]
     },
     "execution_count": 157,
     "metadata": {},
     "output_type": "execute_result"
    }
   ],
   "source": [
    "combined_dict = sf_dict.update(small)\n",
    "sf_dict"
   ]
  },
  {
   "cell_type": "markdown",
   "metadata": {},
   "source": [
    "---\n",
    "\n",
    "### 24. Remove the '`sunset`' zipcode, and assign it to a variable."
   ]
  },
  {
   "cell_type": "code",
   "execution_count": 170,
   "metadata": {},
   "outputs": [
    {
     "data": {
      "text/plain": [
       "{'castro': 94114,\n",
       " 'dogpatch': 94107,\n",
       " 'marina': 94123,\n",
       " 'outer_richmond': 94121,\n",
       " 'presidio': 94129,\n",
       " 'soma': 94105}"
      ]
     },
     "execution_count": 170,
     "metadata": {},
     "output_type": "execute_result"
    }
   ],
   "source": [
    "sf_dict"
   ]
  },
  {
   "cell_type": "code",
   "execution_count": 163,
   "metadata": {},
   "outputs": [
    {
     "data": {
      "text/plain": [
       "94122"
      ]
     },
     "execution_count": 163,
     "metadata": {},
     "output_type": "execute_result"
    }
   ],
   "source": [
    "sunset_zipcode = sf_dict['sunset']\n",
    "sunset_zipcode"
   ]
  },
  {
   "cell_type": "code",
   "execution_count": 171,
   "metadata": {},
   "outputs": [
    {
     "data": {
      "text/plain": [
       "94122"
      ]
     },
     "execution_count": 171,
     "metadata": {},
     "output_type": "execute_result"
    }
   ],
   "source": [
    "sunset_zipcode"
   ]
  },
  {
   "cell_type": "code",
   "execution_count": 172,
   "metadata": {},
   "outputs": [
    {
     "data": {
      "text/plain": [
       "{'castro': 94114,\n",
       " 'dogpatch': 94107,\n",
       " 'marina': 94123,\n",
       " 'outer_richmond': 94121,\n",
       " 'presidio': 94129,\n",
       " 'soma': 94105}"
      ]
     },
     "execution_count": 172,
     "metadata": {},
     "output_type": "execute_result"
    }
   ],
   "source": [
    "sf_dict"
   ]
  },
  {
   "cell_type": "markdown",
   "metadata": {},
   "source": [
    "---\n",
    "\n",
    "### 25. Check if the 'dogpatch' is in the dictionary."
   ]
  },
  {
   "cell_type": "code",
   "execution_count": 176,
   "metadata": {},
   "outputs": [
    {
     "name": "stdout",
     "output_type": "stream",
     "text": [
      "it exists\n"
     ]
    }
   ],
   "source": [
    "for k, v in sf_dict.items():\n",
    "    if k == 'dogpatch':\n",
    "        print('it exists')"
   ]
  },
  {
   "cell_type": "code",
   "execution_count": null,
   "metadata": {
    "collapsed": true
   },
   "outputs": [],
   "source": []
  }
 ],
 "metadata": {
  "kernelspec": {
   "display_name": "Python 3",
   "language": "python",
   "name": "python3"
  },
  "language_info": {
   "codemirror_mode": {
    "name": "ipython",
    "version": 3
   },
   "file_extension": ".py",
   "mimetype": "text/x-python",
   "name": "python",
   "nbconvert_exporter": "python",
   "pygments_lexer": "ipython3",
   "version": "3.6.2"
  }
 },
 "nbformat": 4,
 "nbformat_minor": 1
}
