{
 "cells": [
  {
   "cell_type": "code",
   "execution_count": 1,
   "metadata": {
    "collapsed": true
   },
   "outputs": [],
   "source": [
    "import numpy as np\n",
    "import pandas as pd\n",
    "import matplotlib.pyplot as plt\n",
    "%matplotlib inline\n",
    "\n",
    "from sklearn.linear_model import LinearRegression\n",
    "from sklearn.preprocessing import Binarizer, Imputer, \\\n",
    "    OneHotEncoder, PolynomialFeatures, StandardScaler, \\\n",
    "    MinMaxScaler, RobustScaler"
   ]
  },
  {
   "cell_type": "code",
   "execution_count": 2,
   "metadata": {},
   "outputs": [
    {
     "name": "stderr",
     "output_type": "stream",
     "text": [
      "C:\\ProgramData\\Anaconda3\\lib\\site-packages\\sklearn\\cross_validation.py:41: DeprecationWarning: This module was deprecated in version 0.18 in favor of the model_selection module into which all the refactored classes and functions are moved. Also note that the interface of the new CV iterators are different from that of this module. This module will be removed in 0.20.\n",
      "  \"This module will be removed in 0.20.\", DeprecationWarning)\n"
     ]
    }
   ],
   "source": [
    "from sklearn.model_selection import train_test_split\n",
    "from sklearn.cross_validation import cross_val_score, cross_val_predict\n",
    "from sklearn import metrics\n"
   ]
  },
  {
   "cell_type": "markdown",
   "metadata": {},
   "source": [
    "# Import the Data\n",
    "\n",
    "Import the data found in `datasets/inventory_by_county.csv`. This data comes from [realtor.com](https://research.realtor.com/data/inventory-trends/) and details housing information about the most active counties for housing stock in the US. \n",
    "\n",
    "After you import the data and run the following cell to create a \"state\" identifier: \n",
    "- take out the `Median Listing Price` as your target column.\n",
    "- use `train_test_split()` with a test size of `0.33` to create a training and test set for the features and your target column (`Median Listing Price`). You should have four objects at this point.\n",
    "- identify the number of rows and columns in all four of datasets (`train_x, train_y, test_x, test_y`)"
   ]
  },
  {
   "cell_type": "code",
   "execution_count": 3,
   "metadata": {},
   "outputs": [
    {
     "data": {
      "text/html": [
       "<div>\n",
       "<style>\n",
       "    .dataframe thead tr:only-child th {\n",
       "        text-align: right;\n",
       "    }\n",
       "\n",
       "    .dataframe thead th {\n",
       "        text-align: left;\n",
       "    }\n",
       "\n",
       "    .dataframe tbody tr th {\n",
       "        vertical-align: top;\n",
       "    }\n",
       "</style>\n",
       "<table border=\"1\" class=\"dataframe\">\n",
       "  <thead>\n",
       "    <tr style=\"text-align: right;\">\n",
       "      <th></th>\n",
       "      <th>Month</th>\n",
       "      <th>CountyFIPS</th>\n",
       "      <th>CountyName</th>\n",
       "      <th>Nielsen Rank</th>\n",
       "      <th>Footnote</th>\n",
       "      <th>Median Listing Price</th>\n",
       "      <th>Median Listing Price M/M</th>\n",
       "      <th>Median Listing Price Y/Y</th>\n",
       "      <th>Active Listing Count</th>\n",
       "      <th>Active Listing Count M/M</th>\n",
       "      <th>...</th>\n",
       "      <th>Pending Listing Count Y/Y</th>\n",
       "      <th>Avg Listing Price</th>\n",
       "      <th>Avg Listing Price M/M</th>\n",
       "      <th>Avg Listing Price Y/Y</th>\n",
       "      <th>Total Listing Count</th>\n",
       "      <th>Total Listing Count M/M</th>\n",
       "      <th>Total Listing Count Y/Y</th>\n",
       "      <th>Pending Ratio</th>\n",
       "      <th>Pending Ratio M/M</th>\n",
       "      <th>Pending Ratio Y/Y</th>\n",
       "    </tr>\n",
       "  </thead>\n",
       "  <tbody>\n",
       "    <tr>\n",
       "      <th>0</th>\n",
       "      <td>2017-09-01</td>\n",
       "      <td>6037.0</td>\n",
       "      <td>Los Angeles, CA</td>\n",
       "      <td>1.0</td>\n",
       "      <td>NaN</td>\n",
       "      <td>649900.0</td>\n",
       "      <td>-0.0002</td>\n",
       "      <td>0.0398</td>\n",
       "      <td>16464.0</td>\n",
       "      <td>-0.0261</td>\n",
       "      <td>...</td>\n",
       "      <td>-0.2008</td>\n",
       "      <td>1377900.0</td>\n",
       "      <td>-0.0035</td>\n",
       "      <td>0.1149</td>\n",
       "      <td>19577.0</td>\n",
       "      <td>-0.0306</td>\n",
       "      <td>-0.1578</td>\n",
       "      <td>0.1891</td>\n",
       "      <td>-0.0055</td>\n",
       "      <td>-0.0122</td>\n",
       "    </tr>\n",
       "    <tr>\n",
       "      <th>1</th>\n",
       "      <td>2017-09-01</td>\n",
       "      <td>17031.0</td>\n",
       "      <td>Cook, IL</td>\n",
       "      <td>2.0</td>\n",
       "      <td>NaN</td>\n",
       "      <td>277000.0</td>\n",
       "      <td>-0.0072</td>\n",
       "      <td>0.0897</td>\n",
       "      <td>26510.0</td>\n",
       "      <td>-0.0142</td>\n",
       "      <td>...</td>\n",
       "      <td>-0.2012</td>\n",
       "      <td>428900.0</td>\n",
       "      <td>-0.0046</td>\n",
       "      <td>0.0701</td>\n",
       "      <td>29420.0</td>\n",
       "      <td>-0.0202</td>\n",
       "      <td>-0.0683</td>\n",
       "      <td>0.1098</td>\n",
       "      <td>-0.0067</td>\n",
       "      <td>-0.0207</td>\n",
       "    </tr>\n",
       "    <tr>\n",
       "      <th>2</th>\n",
       "      <td>2017-09-01</td>\n",
       "      <td>48201.0</td>\n",
       "      <td>Harris, TX</td>\n",
       "      <td>3.0</td>\n",
       "      <td>NaN</td>\n",
       "      <td>299000.0</td>\n",
       "      <td>0.0007</td>\n",
       "      <td>-0.0355</td>\n",
       "      <td>15472.0</td>\n",
       "      <td>-0.1020</td>\n",
       "      <td>...</td>\n",
       "      <td>-0.0535</td>\n",
       "      <td>446900.0</td>\n",
       "      <td>0.0182</td>\n",
       "      <td>-0.0225</td>\n",
       "      <td>21676.0</td>\n",
       "      <td>-0.0888</td>\n",
       "      <td>0.0114</td>\n",
       "      <td>0.4010</td>\n",
       "      <td>0.0204</td>\n",
       "      <td>-0.0397</td>\n",
       "    </tr>\n",
       "    <tr>\n",
       "      <th>3</th>\n",
       "      <td>2017-09-01</td>\n",
       "      <td>4013.0</td>\n",
       "      <td>Maricopa, AZ</td>\n",
       "      <td>4.0</td>\n",
       "      <td>NaN</td>\n",
       "      <td>329500.0</td>\n",
       "      <td>0.0015</td>\n",
       "      <td>0.0444</td>\n",
       "      <td>18421.0</td>\n",
       "      <td>0.0013</td>\n",
       "      <td>...</td>\n",
       "      <td>-0.2857</td>\n",
       "      <td>515200.0</td>\n",
       "      <td>0.0043</td>\n",
       "      <td>0.0658</td>\n",
       "      <td>18426.0</td>\n",
       "      <td>0.0013</td>\n",
       "      <td>-0.0860</td>\n",
       "      <td>0.0003</td>\n",
       "      <td>0.0000</td>\n",
       "      <td>-0.0001</td>\n",
       "    </tr>\n",
       "    <tr>\n",
       "      <th>4</th>\n",
       "      <td>2017-09-01</td>\n",
       "      <td>6073.0</td>\n",
       "      <td>San Diego, CA</td>\n",
       "      <td>5.0</td>\n",
       "      <td>NaN</td>\n",
       "      <td>660200.0</td>\n",
       "      <td>-0.0139</td>\n",
       "      <td>0.0541</td>\n",
       "      <td>6057.0</td>\n",
       "      <td>-0.0205</td>\n",
       "      <td>...</td>\n",
       "      <td>0.1176</td>\n",
       "      <td>1147100.0</td>\n",
       "      <td>-0.0126</td>\n",
       "      <td>0.0615</td>\n",
       "      <td>6076.0</td>\n",
       "      <td>-0.0224</td>\n",
       "      <td>-0.1880</td>\n",
       "      <td>0.0031</td>\n",
       "      <td>-0.0019</td>\n",
       "      <td>0.0009</td>\n",
       "    </tr>\n",
       "  </tbody>\n",
       "</table>\n",
       "<p>5 rows × 35 columns</p>\n",
       "</div>"
      ],
      "text/plain": [
       "        Month  CountyFIPS       CountyName  Nielsen Rank Footnote  \\\n",
       "0  2017-09-01      6037.0  Los Angeles, CA           1.0      NaN   \n",
       "1  2017-09-01     17031.0         Cook, IL           2.0      NaN   \n",
       "2  2017-09-01     48201.0       Harris, TX           3.0      NaN   \n",
       "3  2017-09-01      4013.0     Maricopa, AZ           4.0      NaN   \n",
       "4  2017-09-01      6073.0    San Diego, CA           5.0      NaN   \n",
       "\n",
       "   Median Listing Price  Median Listing Price M/M  Median Listing Price Y/Y  \\\n",
       "0              649900.0                   -0.0002                    0.0398   \n",
       "1              277000.0                   -0.0072                    0.0897   \n",
       "2              299000.0                    0.0007                   -0.0355   \n",
       "3              329500.0                    0.0015                    0.0444   \n",
       "4              660200.0                   -0.0139                    0.0541   \n",
       "\n",
       "   Active Listing Count   Active Listing Count M/M        ...          \\\n",
       "0                16464.0                   -0.0261        ...           \n",
       "1                26510.0                   -0.0142        ...           \n",
       "2                15472.0                   -0.1020        ...           \n",
       "3                18421.0                    0.0013        ...           \n",
       "4                 6057.0                   -0.0205        ...           \n",
       "\n",
       "   Pending Listing Count Y/Y  Avg Listing Price  Avg Listing Price M/M  \\\n",
       "0                    -0.2008          1377900.0                -0.0035   \n",
       "1                    -0.2012           428900.0                -0.0046   \n",
       "2                    -0.0535           446900.0                 0.0182   \n",
       "3                    -0.2857           515200.0                 0.0043   \n",
       "4                     0.1176          1147100.0                -0.0126   \n",
       "\n",
       "   Avg Listing Price Y/Y  Total Listing Count  Total Listing Count M/M  \\\n",
       "0                 0.1149              19577.0                  -0.0306   \n",
       "1                 0.0701              29420.0                  -0.0202   \n",
       "2                -0.0225              21676.0                  -0.0888   \n",
       "3                 0.0658              18426.0                   0.0013   \n",
       "4                 0.0615               6076.0                  -0.0224   \n",
       "\n",
       "   Total Listing Count Y/Y  Pending Ratio  Pending Ratio M/M  \\\n",
       "0                  -0.1578         0.1891            -0.0055   \n",
       "1                  -0.0683         0.1098            -0.0067   \n",
       "2                   0.0114         0.4010             0.0204   \n",
       "3                  -0.0860         0.0003             0.0000   \n",
       "4                  -0.1880         0.0031            -0.0019   \n",
       "\n",
       "   Pending Ratio Y/Y  \n",
       "0            -0.0122  \n",
       "1            -0.0207  \n",
       "2            -0.0397  \n",
       "3            -0.0001  \n",
       "4             0.0009  \n",
       "\n",
       "[5 rows x 35 columns]"
      ]
     },
     "execution_count": 3,
     "metadata": {},
     "output_type": "execute_result"
    }
   ],
   "source": [
    "df = pd.read_csv('datasets/inventory_by_county.csv')\n",
    "\n",
    "# The last line of the csv contains extra information for the reader but not valid data\n",
    "# We will remove that line and use the .copy() method\n",
    "# To create a copy of the DataFrame itself\n",
    "# Instead of referring to a slice or a mask of the original dataframe\n",
    "\n",
    "df = df.iloc[0:1000, :].copy()\n",
    "df.head()"
   ]
  },
  {
   "cell_type": "code",
   "execution_count": 4,
   "metadata": {
    "scrolled": false
   },
   "outputs": [
    {
     "name": "stdout",
     "output_type": "stream",
     "text": [
      "shape:\n",
      " (1000, 1) \n",
      " 1st 5 rows:\n",
      " [[ 649900.]\n",
      " [ 277000.]\n",
      " [ 299000.]\n",
      " [ 329500.]\n",
      " [ 660200.]]\n"
     ]
    }
   ],
   "source": [
    "# continue here to extract Median Listing Price and to split the data using train_test_split()\n",
    "mlp = df[['Median Listing Price']].values\n",
    "print('shape:\\n', mlp.shape, '\\n',\n",
    "     '1st 5 rows:\\n', mlp[0:5, :])"
   ]
  },
  {
   "cell_type": "code",
   "execution_count": 12,
   "metadata": {},
   "outputs": [
    {
     "name": "stdout",
     "output_type": "stream",
     "text": [
      "X_train:  (670, 35) \n",
      " X_test:  (330, 35) \n",
      " y_train:  (670, 1) \n",
      " y_test:  (330, 1)\n"
     ]
    }
   ],
   "source": [
    "X_train, X_test, y_train, y_test = train_test_split(df, mlp, test_size=0.33)\n",
    "print('X_train: ', X_train.shape,'\\n', 'X_test: ', X_test.shape,\n",
    "      '\\n', 'y_train: ', y_train.shape, '\\n', 'y_test: ', y_test.shape)"
   ]
  },
  {
   "cell_type": "code",
   "execution_count": null,
   "metadata": {
    "collapsed": true
   },
   "outputs": [],
   "source": []
  },
  {
   "cell_type": "markdown",
   "metadata": {},
   "source": [
    "# Question 1\n",
    "\n",
    "Investigate the pattern of missing values in the dataset. What do you think should be done with those missing values? Is it appropriate to use `Imputer` to address any missing rows? Why or why not?"
   ]
  },
  {
   "cell_type": "code",
   "execution_count": 13,
   "metadata": {
    "scrolled": false
   },
   "outputs": [
    {
     "data": {
      "text/plain": [
       "Footnote                     862\n",
       "Price Increase Count M/M     181\n",
       "Price Increase Count Y/Y     188\n",
       "Pending Listing Count M/M    198\n",
       "Pending Listing Count Y/Y    212\n",
       "dtype: int64"
      ]
     },
     "execution_count": 13,
     "metadata": {},
     "output_type": "execute_result"
    }
   ],
   "source": [
    "# Convert this cell to markdown and write your answer here.\n",
    "df.isnull().sum()[df.isnull().sum() > 0]"
   ]
  },
  {
   "cell_type": "code",
   "execution_count": 14,
   "metadata": {
    "scrolled": true
   },
   "outputs": [
    {
     "data": {
      "text/plain": [
       "\"based on what's seen in this column, there are about 862 null values for 'Footnote' but the rest are '*' values \\nso it would probably be best to ignore this column for our analysis \""
      ]
     },
     "execution_count": 14,
     "metadata": {},
     "output_type": "execute_result"
    }
   ],
   "source": [
    "df[['Footnote']].isnull().sum()\n",
    "'''based on what's seen in this column, there are about 862 null values for 'Footnote' but the rest are '*' values \n",
    "so it would probably be best to ignore this column for our analysis '''"
   ]
  },
  {
   "cell_type": "code",
   "execution_count": 15,
   "metadata": {},
   "outputs": [
    {
     "data": {
      "text/html": [
       "<div>\n",
       "<style>\n",
       "    .dataframe thead tr:only-child th {\n",
       "        text-align: right;\n",
       "    }\n",
       "\n",
       "    .dataframe thead th {\n",
       "        text-align: left;\n",
       "    }\n",
       "\n",
       "    .dataframe tbody tr th {\n",
       "        vertical-align: top;\n",
       "    }\n",
       "</style>\n",
       "<table border=\"1\" class=\"dataframe\">\n",
       "  <thead>\n",
       "    <tr style=\"text-align: right;\">\n",
       "      <th></th>\n",
       "      <th>Pending Listing Count Y/Y</th>\n",
       "    </tr>\n",
       "  </thead>\n",
       "  <tbody>\n",
       "    <tr>\n",
       "      <th>975</th>\n",
       "      <td>-0.4677</td>\n",
       "    </tr>\n",
       "    <tr>\n",
       "      <th>976</th>\n",
       "      <td>0.6250</td>\n",
       "    </tr>\n",
       "    <tr>\n",
       "      <th>977</th>\n",
       "      <td>0.0991</td>\n",
       "    </tr>\n",
       "    <tr>\n",
       "      <th>978</th>\n",
       "      <td>88.0000</td>\n",
       "    </tr>\n",
       "    <tr>\n",
       "      <th>979</th>\n",
       "      <td>-0.1129</td>\n",
       "    </tr>\n",
       "    <tr>\n",
       "      <th>980</th>\n",
       "      <td>1.6364</td>\n",
       "    </tr>\n",
       "    <tr>\n",
       "      <th>981</th>\n",
       "      <td>NaN</td>\n",
       "    </tr>\n",
       "    <tr>\n",
       "      <th>982</th>\n",
       "      <td>NaN</td>\n",
       "    </tr>\n",
       "    <tr>\n",
       "      <th>983</th>\n",
       "      <td>-1.0000</td>\n",
       "    </tr>\n",
       "    <tr>\n",
       "      <th>984</th>\n",
       "      <td>-0.0678</td>\n",
       "    </tr>\n",
       "    <tr>\n",
       "      <th>985</th>\n",
       "      <td>-1.0000</td>\n",
       "    </tr>\n",
       "    <tr>\n",
       "      <th>986</th>\n",
       "      <td>NaN</td>\n",
       "    </tr>\n",
       "    <tr>\n",
       "      <th>987</th>\n",
       "      <td>-1.0000</td>\n",
       "    </tr>\n",
       "    <tr>\n",
       "      <th>988</th>\n",
       "      <td>-0.1667</td>\n",
       "    </tr>\n",
       "    <tr>\n",
       "      <th>989</th>\n",
       "      <td>-0.3571</td>\n",
       "    </tr>\n",
       "    <tr>\n",
       "      <th>990</th>\n",
       "      <td>0.0182</td>\n",
       "    </tr>\n",
       "    <tr>\n",
       "      <th>991</th>\n",
       "      <td>-1.0000</td>\n",
       "    </tr>\n",
       "    <tr>\n",
       "      <th>992</th>\n",
       "      <td>0.2619</td>\n",
       "    </tr>\n",
       "    <tr>\n",
       "      <th>993</th>\n",
       "      <td>-0.4231</td>\n",
       "    </tr>\n",
       "    <tr>\n",
       "      <th>994</th>\n",
       "      <td>0.0724</td>\n",
       "    </tr>\n",
       "    <tr>\n",
       "      <th>995</th>\n",
       "      <td>0.2000</td>\n",
       "    </tr>\n",
       "    <tr>\n",
       "      <th>996</th>\n",
       "      <td>-1.0000</td>\n",
       "    </tr>\n",
       "    <tr>\n",
       "      <th>997</th>\n",
       "      <td>NaN</td>\n",
       "    </tr>\n",
       "    <tr>\n",
       "      <th>998</th>\n",
       "      <td>NaN</td>\n",
       "    </tr>\n",
       "    <tr>\n",
       "      <th>999</th>\n",
       "      <td>7.0000</td>\n",
       "    </tr>\n",
       "  </tbody>\n",
       "</table>\n",
       "</div>"
      ],
      "text/plain": [
       "     Pending Listing Count Y/Y\n",
       "975                    -0.4677\n",
       "976                     0.6250\n",
       "977                     0.0991\n",
       "978                    88.0000\n",
       "979                    -0.1129\n",
       "980                     1.6364\n",
       "981                        NaN\n",
       "982                        NaN\n",
       "983                    -1.0000\n",
       "984                    -0.0678\n",
       "985                    -1.0000\n",
       "986                        NaN\n",
       "987                    -1.0000\n",
       "988                    -0.1667\n",
       "989                    -0.3571\n",
       "990                     0.0182\n",
       "991                    -1.0000\n",
       "992                     0.2619\n",
       "993                    -0.4231\n",
       "994                     0.0724\n",
       "995                     0.2000\n",
       "996                    -1.0000\n",
       "997                        NaN\n",
       "998                        NaN\n",
       "999                     7.0000"
      ]
     },
     "execution_count": 15,
     "metadata": {},
     "output_type": "execute_result"
    }
   ],
   "source": [
    "df[['Price Increase Count M/M']].tail(100)\n",
    "df[['Price Increase Count Y/Y']].tail(100)\n",
    "df[['Pending Listing Count M/M']].tail(100)\n",
    "df[['Pending Listing Count Y/Y']].tail(25)\n",
    "\n",
    "# the rest of the columns have numerical values so it would be good to impute values for these not just 'Footnote'."
   ]
  },
  {
   "cell_type": "markdown",
   "metadata": {},
   "source": [
    "# Question 2\n",
    "\n",
    "Use the `Active Listing Count ` feature and the `Binarizer` preprocessing object to create a dummy variable coded 1 if the count of active listings is above 10,000 units. Store the transformed data from the training set in a variable called `training_active_listing_dummy`"
   ]
  },
  {
   "cell_type": "code",
   "execution_count": 16,
   "metadata": {
    "scrolled": true
   },
   "outputs": [
    {
     "data": {
      "text/plain": [
       "array(['Month', 'CountyFIPS', 'CountyName', 'Nielsen Rank', 'Footnote',\n",
       "       'Median Listing Price', 'Median Listing Price M/M',\n",
       "       'Median Listing Price Y/Y', 'Active Listing Count ',\n",
       "       'Active Listing Count M/M', 'Active Listing Count Y/Y',\n",
       "       'Days on Market ', 'Days on Market M/M', 'Days on Market Y/Y',\n",
       "       'New Listing Count ', 'New Listing Count M/M',\n",
       "       'New Listing Count Y/Y', 'Price Increase Count ',\n",
       "       'Price Increase Count M/M', 'Price Increase Count Y/Y',\n",
       "       'Price Decrease Count ', 'Price Decrease Count M/M',\n",
       "       'Price Decrease Count Y/Y', 'Pending Listing Count ',\n",
       "       'Pending Listing Count M/M', 'Pending Listing Count Y/Y',\n",
       "       'Avg Listing Price', 'Avg Listing Price M/M',\n",
       "       'Avg Listing Price Y/Y', 'Total Listing Count',\n",
       "       'Total Listing Count M/M', 'Total Listing Count Y/Y',\n",
       "       'Pending Ratio', 'Pending Ratio M/M', 'Pending Ratio Y/Y'], dtype=object)"
      ]
     },
     "execution_count": 16,
     "metadata": {},
     "output_type": "execute_result"
    }
   ],
   "source": [
    "df.columns.values"
   ]
  },
  {
   "cell_type": "code",
   "execution_count": 17,
   "metadata": {},
   "outputs": [
    {
     "name": "stdout",
     "output_type": "stream",
     "text": [
      "[[ 0.]\n",
      " [ 0.]\n",
      " [ 0.]\n",
      " [ 0.]\n",
      " [ 0.]] 0.00597014925373\n"
     ]
    }
   ],
   "source": [
    "active_listing_count_binarizer = Binarizer(10000)\n",
    "active_listing_count_binarizer.fit(X_train[['Active Listing Count ']].values)\n",
    "training_active_listing_dummy = active_listing_count_binarizer.transform(\n",
    "    X_train[['Active Listing Count ']].values)\n",
    "print(training_active_listing_dummy[0:5], training_active_listing_dummy.mean())"
   ]
  },
  {
   "cell_type": "markdown",
   "metadata": {},
   "source": [
    "# Question 3\n",
    "\n",
    "The Pending Ratio of a county is the proportion of houses that are under contract to be sold, but have not been finalized yet. Your boss believes that the best way to model this is by including both the ratio and the $\\text{ratio}^2$ -- this would let us investigate a non-linear relationship. \n",
    "\n",
    "Use `PolynomialFeatures` to create a pending ratio and a $\\text{pending ratio}^2$ term. Do not include an intercept term. Save this 2-dimensional array in a variable called `training_pending_ratio`"
   ]
  },
  {
   "cell_type": "code",
   "execution_count": 23,
   "metadata": {
    "scrolled": true
   },
   "outputs": [
    {
     "data": {
      "text/html": [
       "<div>\n",
       "<style>\n",
       "    .dataframe thead tr:only-child th {\n",
       "        text-align: right;\n",
       "    }\n",
       "\n",
       "    .dataframe thead th {\n",
       "        text-align: left;\n",
       "    }\n",
       "\n",
       "    .dataframe tbody tr th {\n",
       "        vertical-align: top;\n",
       "    }\n",
       "</style>\n",
       "<table border=\"1\" class=\"dataframe\">\n",
       "  <thead>\n",
       "    <tr style=\"text-align: right;\">\n",
       "      <th></th>\n",
       "      <th>Pending Ratio</th>\n",
       "    </tr>\n",
       "  </thead>\n",
       "  <tbody>\n",
       "    <tr>\n",
       "      <th>0</th>\n",
       "      <td>0.1891</td>\n",
       "    </tr>\n",
       "    <tr>\n",
       "      <th>1</th>\n",
       "      <td>0.1098</td>\n",
       "    </tr>\n",
       "    <tr>\n",
       "      <th>2</th>\n",
       "      <td>0.4010</td>\n",
       "    </tr>\n",
       "    <tr>\n",
       "      <th>3</th>\n",
       "      <td>0.0003</td>\n",
       "    </tr>\n",
       "    <tr>\n",
       "      <th>4</th>\n",
       "      <td>0.0031</td>\n",
       "    </tr>\n",
       "  </tbody>\n",
       "</table>\n",
       "</div>"
      ],
      "text/plain": [
       "   Pending Ratio\n",
       "0         0.1891\n",
       "1         0.1098\n",
       "2         0.4010\n",
       "3         0.0003\n",
       "4         0.0031"
      ]
     },
     "execution_count": 23,
     "metadata": {},
     "output_type": "execute_result"
    }
   ],
   "source": [
    "df[['Pending Ratio']].head()"
   ]
  },
  {
   "cell_type": "code",
   "execution_count": 29,
   "metadata": {},
   "outputs": [
    {
     "name": "stdout",
     "output_type": "stream",
     "text": [
      "[[ 0.          0.        ]\n",
      " [ 0.5671      0.32160241]\n",
      " [ 0.1373      0.01885129]\n",
      " [ 0.          0.        ]\n",
      " [ 0.0293      0.00085849]] 0.118734679276\n",
      "Polynomial mean:  0.118734679276\n"
     ]
    }
   ],
   "source": [
    "pf_poly = PolynomialFeatures(2, include_bias=False)\n",
    "pf = X_train[['Pending Ratio']].values\n",
    "pf_poly.fit(pf)\n",
    "\n",
    "training_pending_ratio = pf_poly.transform(pf)\n",
    "print(training_pending_ratio[0:5, :], training_pending_ratio.mean())\n",
    "\n",
    "print('Polynomial mean: ', training_pending_ratio.mean())"
   ]
  },
  {
   "cell_type": "code",
   "execution_count": 39,
   "metadata": {},
   "outputs": [
    {
     "data": {
      "text/plain": [
       "<matplotlib.text.Text at 0x26467e64080>"
      ]
     },
     "execution_count": 39,
     "metadata": {},
     "output_type": "execute_result"
    },
    {
     "data": {
      "image/png": "[encoded data removed]",
      "text/plain": [
       "<matplotlib.figure.Figure at 0x26467f30780>"
      ]
     },
     "metadata": {},
     "output_type": "display_data"
    }
   ],
   "source": [
    "import matplotlib.pyplot as plt\n",
    "%matplotlib inline\n",
    "\n",
    "\n",
    "plt.scatter(training_pending_ratio[:, 0], training_pending_ratio[:, 1], color='r')\n",
    "plt.xlabel('Training Active Listing')\n",
    "plt.ylabel('Polynomial Pending Ratio')"
   ]
  },
  {
   "cell_type": "markdown",
   "metadata": {},
   "source": [
    "# Question 4\n",
    "\n",
    "Join the variables you have transformed in numpy. They should be the following:\n",
    "\n",
    "- `training_active_listing_dummy`\n",
    "- `training_pending_ratio`\n",
    "\n",
    "What is the shape of the new numpy array?"
   ]
  },
  {
   "cell_type": "code",
   "execution_count": 35,
   "metadata": {
    "scrolled": true
   },
   "outputs": [
    {
     "name": "stdout",
     "output_type": "stream",
     "text": [
      "(670, 3)\n",
      "[[ 0.          0.          0.        ]\n",
      " [ 0.          0.5671      0.32160241]\n",
      " [ 0.          0.1373      0.01885129]\n",
      " [ 0.          0.          0.        ]\n",
      " [ 0.          0.0293      0.00085849]]\n"
     ]
    }
   ],
   "source": [
    "c_array = np.concatenate([training_active_listing_dummy, training_pending_ratio], axis=1)\n",
    "print(c_array.shape)\n",
    "print(c_array[0:5, :])"
   ]
  },
  {
   "cell_type": "markdown",
   "metadata": {},
   "source": [
    "# Question 5\n",
    "\n",
    "Instantiate a `LinearRegression` object and fit a model using the new training array above and the training target column you created when you imported the data. What is the $R^2$ score using the training data?"
   ]
  },
  {
   "cell_type": "code",
   "execution_count": 47,
   "metadata": {},
   "outputs": [
    {
     "name": "stdout",
     "output_type": "stream",
     "text": [
      "[[  85811.52663265  -13827.18007755  238603.13690541]]\n",
      "R^2:  0.071811725422\n"
     ]
    }
   ],
   "source": [
    "lr = LinearRegression()\n",
    "\n",
    "x = c_array\n",
    "y = y_train\n",
    "\n",
    "model = lr.fit(x, y)\n",
    "print(lr.coef_)\n",
    "print('R^2: ', lr.score(x,y))"
   ]
  },
  {
   "cell_type": "markdown",
   "metadata": {},
   "source": [
    "# Question 6\n",
    "\n",
    "Using the fit objects that you created in questions 2, 3, and 4, do the following:\n",
    "\n",
    "1. Transform the holdout (test) data that you created when you imported the data\n",
    "2. Use numpy to join the transformed holdout (test) data. \n",
    "3. Score your fit `LinearRegression` object using the new holdout data. What happens to your $R^2$ value?"
   ]
  },
  {
   "cell_type": "code",
   "execution_count": 55,
   "metadata": {},
   "outputs": [
    {
     "name": "stdout",
     "output_type": "stream",
     "text": [
      "test active listing dummy:  [[ 0.]\n",
      " [ 0.]\n",
      " [ 0.]\n",
      " [ 0.]\n",
      " [ 0.]] 0.0121212121212\n",
      "test pending ratio dummy:  \n",
      " [[  1.10000000e-03   1.21000000e-06]\n",
      " [  2.44600000e-01   5.98291600e-02]\n",
      " [  3.49300000e-01   1.22010490e-01]\n",
      " [  2.38000000e-02   5.66440000e-04]\n",
      " [  3.98000000e-02   1.58404000e-03]]\n",
      "(330, 1)\n"
     ]
    }
   ],
   "source": [
    "# test data\n",
    "\n",
    "test_active_listing_dummy = active_listing_count_binarizer.transform(X_test[['Active Listing Count ']].values)\n",
    "print('test active listing dummy: ', test_active_listing_dummy[0:5], test_active_listing_dummy.mean())\n",
    "\n",
    "test_pending_ratio_dummy = pf_poly.transform(X_test[['Pending Ratio']].values)\n",
    "print('test pending ratio dummy: ', '\\n', test_pending_ratio_dummy[0:5])\n",
    "print(test_active_listing_dummy.shape)"
   ]
  },
  {
   "cell_type": "code",
   "execution_count": 54,
   "metadata": {},
   "outputs": [
    {
     "name": "stdout",
     "output_type": "stream",
     "text": [
      "(330, 3)\n"
     ]
    }
   ],
   "source": [
    "#2\n",
    "test_array = np.concatenate([test_active_listing_dummy, test_pending_ratio_dummy], axis=1)\n",
    "print(test_array.shape)"
   ]
  },
  {
   "cell_type": "code",
   "execution_count": 57,
   "metadata": {},
   "outputs": [
    {
     "data": {
      "text/plain": [
       "0.065702137802345906"
      ]
     },
     "execution_count": 57,
     "metadata": {},
     "output_type": "execute_result"
    }
   ],
   "source": [
    "#3\n",
    "lr.score(test_array, y_test)\n",
    "# the R^2 was lower on the test data compared to the training data"
   ]
  },
  {
   "cell_type": "markdown",
   "metadata": {},
   "source": [
    "# Bonus: Question 7\n",
    "\n",
    "This question will require external research!\n",
    "\n",
    "Import `StandardScaler` and answer the following questions:\n",
    "\n",
    "1. Scale the training data and refit the linear regression. Does your $R^2$ change? Why or why not?\n",
    "2. Compare the coefficients in your linear regression between the standardized and the unstandardized versions. What is the difference? How do you interpret the coefficients in each case?\n",
    "3. Standardize your test data and look at the $R^2$ score between the standardized and unstandardized versions of your model. Is there a difference? Why or why not?"
   ]
  },
  {
   "cell_type": "code",
   "execution_count": 58,
   "metadata": {
    "collapsed": true
   },
   "outputs": [],
   "source": [
    "ss = StandardScaler()"
   ]
  },
  {
   "cell_type": "code",
   "execution_count": 59,
   "metadata": {},
   "outputs": [
    {
     "data": {
      "text/plain": [
       "StandardScaler(copy=True, with_mean=True, with_std=True)"
      ]
     },
     "execution_count": 59,
     "metadata": {},
     "output_type": "execute_result"
    }
   ],
   "source": [
    "active_pending_ratio = X_train[['Active Listing Count ', 'Pending Ratio']].values\n",
    "ss.fit(active_pending_ratio)"
   ]
  },
  {
   "cell_type": "code",
   "execution_count": 62,
   "metadata": {
    "scrolled": true
   },
   "outputs": [
    {
     "name": "stdout",
     "output_type": "stream",
     "text": [
      "[[-0.43809301 -0.72929921]\n",
      " [-0.39688031  1.82465118]\n",
      " [ 0.26417133 -0.1109649 ]\n",
      " [ 0.0905285  -0.72929921]\n",
      " [-0.55403806 -0.59734586]]\n"
     ]
    }
   ],
   "source": [
    "active_pending_ratio_list = ss.transform(active_pending_ratio)\n",
    "print(active_pending_ratio_list[0:5])"
   ]
  },
  {
   "cell_type": "code",
   "execution_count": 63,
   "metadata": {},
   "outputs": [
    {
     "data": {
      "text/plain": [
       "<matplotlib.collections.PathCollection at 0x264682bea58>"
      ]
     },
     "execution_count": 63,
     "metadata": {},
     "output_type": "execute_result"
    },
    {
     "data": {
      "image/png": "[encoded data removed]",
      "text/plain": [
       "<matplotlib.figure.Figure at 0x26467776048>"
      ]
     },
     "metadata": {},
     "output_type": "display_data"
    }
   ],
   "source": [
    "plt.scatter(active_pending_ratio_list[:,0], active_pending_ratio_list[:, 1])"
   ]
  },
  {
   "cell_type": "code",
   "execution_count": 64,
   "metadata": {
    "collapsed": true
   },
   "outputs": [],
   "source": [
    "lm = LinearRegression()\n",
    "model = lm.fit(active_pending_ratio_list, y_train)"
   ]
  },
  {
   "cell_type": "code",
   "execution_count": 68,
   "metadata": {},
   "outputs": [],
   "source": [
    "mscore = model.score(active_pending_ratio_list, y_train)"
   ]
  },
  {
   "cell_type": "code",
   "execution_count": 75,
   "metadata": {},
   "outputs": [
    {
     "name": "stdout",
     "output_type": "stream",
     "text": [
      "model score with Standard Scalar:  \n",
      " 0.124858879853\n",
      "model coefficient with Standard Scalar:  [[ 44180.43125469  35775.98180139]]\n"
     ]
    }
   ],
   "source": [
    "print('model score with Standard Scalar: ', '\\n', mscore)\n",
    "print('model coefficient with Standard Scalar: ', model.coef_)"
   ]
  },
  {
   "cell_type": "code",
   "execution_count": 81,
   "metadata": {},
   "outputs": [
    {
     "name": "stdout",
     "output_type": "stream",
     "text": [
      "model score unstandard:  -359508.603711\n",
      "model coeff unstandard:  [[  2.42772623e+01   1.61118115e+05]]\n"
     ]
    }
   ],
   "source": [
    "lm2 = LinearRegression()\n",
    "model2 = lm2.fit(active_pending_ratio, y_train)\n",
    "mscore2 = model.score(active_pending_ratio, y_train)\n",
    "\n",
    "print('model score unstandard: ', mscore2)\n",
    "print('model coeff unstandard: ', model2.coef_)"
   ]
  },
  {
   "cell_type": "code",
   "execution_count": 82,
   "metadata": {},
   "outputs": [
    {
     "name": "stdout",
     "output_type": "stream",
     "text": [
      "[[ 0.66831156 -0.73678412]\n",
      " [-0.34644756  0.42836104]\n",
      " [ 0.66556153  0.92934953]\n",
      " [-0.37211445 -0.62816484]\n",
      " [-0.40740644 -0.55160499]]\n"
     ]
    }
   ],
   "source": [
    "active_list_pending_ratio_test = X_test[['Active Listing Count ', 'Pending Ratio']].values\n",
    "\n",
    "ss.fit(active_list_pending_ratio_test)\n",
    "active_list_pending_ratio_test_transform = ss.transform(active_list_pending_ratio_test)\n",
    "print(active_list_pending_ratio_test_transform[0:5, :])"
   ]
  },
  {
   "cell_type": "code",
   "execution_count": 83,
   "metadata": {},
   "outputs": [
    {
     "name": "stdout",
     "output_type": "stream",
     "text": [
      "model score with SS Test set:  0.0745516975671\n",
      "model coeff with SS test set:  [[ 27363.4081528   28426.15611674]]\n"
     ]
    }
   ],
   "source": [
    "lr3 = LinearRegression()\n",
    "model3 = lr3.fit(active_list_pending_ratio_test_transform, y_test)\n",
    "model3_score = model3.score(active_list_pending_ratio_test_transform, y_test)\n",
    "\n",
    "print('model score with SS Test set: ', model3_score)\n",
    "print('model coeff with SS test set: ', model3.coef_)"
   ]
  },
  {
   "cell_type": "code",
   "execution_count": 84,
   "metadata": {},
   "outputs": [
    {
     "name": "stdout",
     "output_type": "stream",
     "text": [
      "model score with US Test set:  0.0745516975671\n",
      "model coeff with US test set:  [[  1.25416747e+01   1.36018883e+05]]\n"
     ]
    }
   ],
   "source": [
    "lr4 = LinearRegression()\n",
    "model4 = lr4.fit(active_list_pending_ratio_test, y_test)\n",
    "model4_score = model4.score(active_list_pending_ratio_test, y_test)\n",
    "\n",
    "print('model score with US Test set: ', model4_score)\n",
    "print('model coeff with US test set: ', model4.coef_)"
   ]
  },
  {
   "cell_type": "markdown",
   "metadata": {},
   "source": [
    "# Bonus: Question 8\n",
    "\n",
    "This question is open-ended!\n",
    "\n",
    "1. Use the remaining columns in the data. Use different features and transformations to create a model with the highest $R^2$ **in the training set** that you can. Compare the differences in feature extraction, etc. using cross-validation (`cross_val_score` or `KFolds`). Do not worry about using the preprocessing library at this point.\n",
    "2. Apply these same transformations to the test dataset. How does the model score now?\n",
    "3. Once you are satisfied with your model, refactor your code where appropriate to use sklearn preprocessing libraries. "
   ]
  },
  {
   "cell_type": "code",
   "execution_count": null,
   "metadata": {
    "collapsed": true
   },
   "outputs": [],
   "source": []
  },
  {
   "cell_type": "code",
   "execution_count": null,
   "metadata": {
    "collapsed": true
   },
   "outputs": [],
   "source": []
  }
 ],
 "metadata": {
  "kernelspec": {
   "display_name": "Python 3",
   "language": "python",
   "name": "python3"
  },
  "language_info": {
   "codemirror_mode": {
    "name": "ipython",
    "version": 3
   },
   "file_extension": ".py",
   "mimetype": "text/x-python",
   "name": "python",
   "nbconvert_exporter": "python",
   "pygments_lexer": "ipython3",
   "version": "3.6.2"
  }
 },
 "nbformat": 4,
 "nbformat_minor": 2
}
