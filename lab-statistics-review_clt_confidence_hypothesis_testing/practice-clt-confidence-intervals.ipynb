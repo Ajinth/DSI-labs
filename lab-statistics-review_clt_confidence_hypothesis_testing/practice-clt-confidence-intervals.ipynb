{
 "cells": [
  {
   "cell_type": "markdown",
   "metadata": {},
   "source": [
    "<img src=\"http://imgur.com/1ZcRyrc.png\" style=\"float: left; margin: 20px; height: 55px\">\n",
    "\n",
    "# Review CLT, Confidence Intervals, and Hypothesis Testing\n",
    "\n",
    "_Authors: Matt Brems (DC)_\n",
    "\n",
    "---"
   ]
  },
  {
   "cell_type": "markdown",
   "metadata": {},
   "source": [
    "### Read in the housing data (code provided).\n",
    "\n",
    "You can find the original data [here](https://archive.ics.uci.edu/ml/machine-learning-databases/housing/housing.data)."
   ]
  },
  {
   "cell_type": "code",
   "execution_count": 1,
   "metadata": {
    "collapsed": true
   },
   "outputs": [],
   "source": [
    "import urllib\n",
    "\n",
    "names = [\"CRIM\", \"ZN\", \"INDUS\", \"CHAS\", \"NOX\", \"RM\", \"AGE\", \"DIS\", \"RAD\", \"TAX\", \"PTRATIO\", \"B\", \"LSTAT\", \"MEDV\"]\n",
    "\n",
    "import pandas as pd\n",
    "data = pd.read_csv(\"./datasets/housing.data\", header=None, names=names, delim_whitespace=True)\n",
    "\n",
    "\n",
    "import numpy as np\n",
    "import scipy.stats as stats\n",
    "import seaborn as sns\n",
    "import matplotlib.pyplot as plt\n",
    "\n",
    "NOX = data['NOX'].values\n",
    "AGE = data['AGE'].values"
   ]
  },
  {
   "cell_type": "markdown",
   "metadata": {},
   "source": [
    "### 1. Find the mean, standard deviation, and the standard error of the mean for variable `AGE`"
   ]
  },
  {
   "cell_type": "code",
   "execution_count": 2,
   "metadata": {},
   "outputs": [
    {
     "name": "stdout",
     "output_type": "stream",
     "text": [
      "68.5749011858\n",
      "28.1210325702\n"
     ]
    }
   ],
   "source": [
    "age_mean = np.mean(AGE)\n",
    "age_std = np.std(AGE)\n",
    "print(age_mean)\n",
    "print(age_std)"
   ]
  },
  {
   "cell_type": "code",
   "execution_count": 3,
   "metadata": {},
   "outputs": [
    {
     "data": {
      "text/plain": [
       "1.2513695252583041"
      ]
     },
     "execution_count": 3,
     "metadata": {},
     "output_type": "execute_result"
    }
   ],
   "source": [
    "age_se = np.std(AGE, ddof=1)/np.sqrt(len(data))\n",
    "age_se"
   ]
  },
  {
   "cell_type": "code",
   "execution_count": 4,
   "metadata": {},
   "outputs": [
    {
     "data": {
      "text/plain": [
       "1.2513695252583041"
      ]
     },
     "execution_count": 4,
     "metadata": {},
     "output_type": "execute_result"
    }
   ],
   "source": [
    "stats.sem(AGE, ddof=1)"
   ]
  },
  {
   "cell_type": "markdown",
   "metadata": {},
   "source": [
    "### 2. Generate a 90%, 95%, and 99% confidence interval for the mean value of `AGE`\n",
    "\n",
    "You can use the `scipy.stats.t.interval` function to calculate confidence interval range.\n",
    "\n",
    "```python\n",
    "# Endpoints of the range that contains alpha percent of the distribution\n",
    "stats.t.interval(alpha, df, loc=0, scale=1)\t\n",
    "```\n",
    "\n",
    "Arguments:\n",
    "- `df` = the degrees of freedom, will be the length of the vector -1.\n",
    "- `loc` = the mean of the t-distribution (your point estimate - mean of the variable)\n",
    "- `scale` = the standard deviation of the t-distribution (the standard error of your sample mean)\n",
    "\n",
    "**Interpret the results from all three confidence intervals.**"
   ]
  },
  {
   "cell_type": "code",
   "execution_count": 5,
   "metadata": {
    "collapsed": true
   },
   "outputs": [],
   "source": [
    "from scipy.stats import t"
   ]
  },
  {
   "cell_type": "code",
   "execution_count": 16,
   "metadata": {},
   "outputs": [],
   "source": [
    "t_interval90 = t.interval(0.9, len(AGE)-1, age_mean, age_se)\n",
    "t_interval95 = t.interval(0.95, len(AGE)-1, age_mean, age_se)\n",
    "t_interval99 = t.interval(0.99, len(AGE)-1, age_mean, age_se)"
   ]
  },
  {
   "cell_type": "code",
   "execution_count": 31,
   "metadata": {},
   "outputs": [
    {
     "name": "stdout",
     "output_type": "stream",
     "text": [
      "I'am 90% sure that the true mean value for AGE is between 66.512798667 and 70.6370037045 years\n",
      "I'am 95% sure that the true mean value for AGE is between 66.1163697185 and 71.033432653 years\n",
      "I'am 99% sure that the true mean value for AGE is between 65.3393604183 and 71.8104419532 years\n"
     ]
    }
   ],
   "source": [
    "print('I\\'am 90% sure that the true mean value for ''AGE'' is between ' + str(t_interval90[0]) + ' and ' + str(t_interval90[1]) + ' years')\n",
    "print('I\\'am 95% sure that the true mean value for ''AGE'' is between ' + str(t_interval95[0]) + ' and ' + str(t_interval95[1]) + ' years')\n",
    "print('I\\'am 99% sure that the true mean value for ''AGE'' is between ' + str(t_interval99[0]) + ' and ' + str(t_interval99[1]) + ' years')"
   ]
  },
  {
   "cell_type": "code",
   "execution_count": 7,
   "metadata": {},
   "outputs": [
    {
     "data": {
      "text/plain": [
       "(66.512798667041864, 70.637003704499648)"
      ]
     },
     "execution_count": 7,
     "metadata": {},
     "output_type": "execute_result"
    }
   ],
   "source": [
    "# testing\n",
    "t_interval_90 = t.interval(0.9,\n",
    "                           len(AGE)-1,\n",
    "                           loc=np.mean(AGE),\n",
    "                           scale=np.std(AGE, ddof = 1)/(len(AGE))**0.5)\n",
    "t_interval_90"
   ]
  },
  {
   "cell_type": "markdown",
   "metadata": {},
   "source": [
    "### 3. Did you rely on the Central Limit Theorem in question 2? Why or why not? Explain."
   ]
  },
  {
   "cell_type": "code",
   "execution_count": 32,
   "metadata": {},
   "outputs": [
    {
     "data": {
      "text/plain": [
       "(array([  14.,   31.,   29.,   42.,   32.,   38.,   39.,   42.,   71.,  168.]),\n",
       " array([   2.9 ,   12.61,   22.32,   32.03,   41.74,   51.45,   61.16,\n",
       "          70.87,   80.58,   90.29,  100.  ]),\n",
       " <a list of 10 Patch objects>)"
      ]
     },
     "execution_count": 32,
     "metadata": {},
     "output_type": "execute_result"
    },
    {
     "data": {
      "image/png": "[encoded data removed]",
      "text/plain": [
       "<matplotlib.figure.Figure at 0x282d9099668>"
      ]
     },
     "metadata": {},
     "output_type": "display_data"
    }
   ],
   "source": [
    "import matplotlib.pyplot as plt\n",
    "%matplotlib inline\n",
    "\n",
    "plt.hist(data['AGE'])\n",
    "\n",
    "# This is not a normal distribution of the "
   ]
  },
  {
   "cell_type": "markdown",
   "metadata": {},
   "source": [
    "### 4. For variable `NOX`, generate a 95% confidence interval for the mean and interpret it."
   ]
  },
  {
   "cell_type": "code",
   "execution_count": 35,
   "metadata": {},
   "outputs": [
    {
     "name": "stdout",
     "output_type": "stream",
     "text": [
      "0.5546950592885372\n",
      "0.11576311540656153\n",
      "0.00515139102403\n"
     ]
    }
   ],
   "source": [
    "nox_mean = np.mean(data['NOX'])\n",
    "nox_std = np.std(data['NOX'])\n",
    "nox_se = stats.sem(data['NOX'], ddof=1)\n",
    "print(nox_mean)\n",
    "print(nox_std)\n",
    "print(nox_se)"
   ]
  },
  {
   "cell_type": "code",
   "execution_count": 41,
   "metadata": {},
   "outputs": [
    {
     "name": "stdout",
     "output_type": "stream",
     "text": [
      "I'am 90% sure that the true mean value for NOX is between 0.546206202727 and 0.56318391585 nox\n",
      "I'am 95% sure that the true mean value for NOX is between 0.544574262292 and 0.564815856285 nox\n",
      "I'am 99% sure that the true mean value for NOX is between 0.541375623797 and 0.56801449478 nox\n"
     ]
    }
   ],
   "source": [
    "nox_interval90 = t.interval(0.9, len(NOX) - 1, nox_mean, nox_se)\n",
    "nox_interval95 = t.interval(0.95, len(NOX) - 1, nox_mean, nox_se)\n",
    "nox_interval99 = t.interval(0.99, len(NOX) - 1, nox_mean, nox_se)\n",
    "\n",
    "print('I\\'am 90% sure that the true mean value for ''NOX'' is between ' + str(nox_interval90[0]) + ' and ' + str(nox_interval90[1]) + ' nox')\n",
    "print('I\\'am 95% sure that the true mean value for ''NOX'' is between ' + str(nox_interval95[0]) + ' and ' + str(nox_interval95[1]) + ' nox')\n",
    "print('I\\'am 99% sure that the true mean value for ''NOX'' is between ' + str(nox_interval99[0]) + ' and ' + str(nox_interval99[1]) + ' nox')"
   ]
  },
  {
   "cell_type": "markdown",
   "metadata": {},
   "source": [
    "### 5. For the variable `NOX`, test the hypothesis that the mean is equal to the median. \n",
    "\n",
    "You may use scipy functions to complete this, but complete all steps listed below.\n",
    "\n",
    "1. Define hypothesis\n",
    "2. Set alpha, the confidence threshold (Let alpha = 0.05)\n",
    "3. Calculate point estimate, i.e. sample mean\n",
    "4. Calculate test statistic\n",
    "5. Find the p-value\n",
    "6. Interpret results"
   ]
  },
  {
   "cell_type": "code",
   "execution_count": 43,
   "metadata": {},
   "outputs": [],
   "source": [
    "# A:\n",
    "# The null hypothesis is that the variable nox the mean is equal to the median.\n",
    "alpha = 0.05\n",
    "nox_median = np.median(NOX)\n",
    "nox_tstat = (nox_mean - nox_median)/ nox_se\n",
    "nox_p = t.sf(np.abs(nox_tstat), len(NOX)) * 2\n",
    "\n",
    "\n"
   ]
  },
  {
   "cell_type": "code",
   "execution_count": 64,
   "metadata": {
    "scrolled": true
   },
   "outputs": [
    {
     "name": "stdout",
     "output_type": "stream",
     "text": [
      "the median for the nox is 0.538\n",
      "the tstatistic for nox is 3.24088371678\n",
      "the pvalue for nox is 0.00127005273618\n",
      "\n",
      "the p value is less than the alpha so we can reject the null hypothesis\n"
     ]
    }
   ],
   "source": [
    "print('the median for the nox is ' + str(nox_median))\n",
    "print('the tstatistic for nox is ' + str(nox_tstat))\n",
    "print('the pvalue for nox is ' + str(nox_p) + '\\n')\n",
    "\n",
    "print('the p value is less than the alpha so we can reject the null hypothesis')"
   ]
  },
  {
   "cell_type": "markdown",
   "metadata": {},
   "source": [
    "### 6. What do you notice about the results from Exercise 4 and Exercise 5? \n",
    "\n",
    "**If you were going to generalize this to the relationship between hypothesis tests and confidence intervals, what might you say? Be specific.**"
   ]
  },
  {
   "cell_type": "code",
   "execution_count": 11,
   "metadata": {
    "collapsed": true
   },
   "outputs": [],
   "source": [
    "# A: The larger the t-stat the smaller the p value"
   ]
  },
  {
   "cell_type": "markdown",
   "metadata": {},
   "source": [
    "### 7. For the variable `NOX`, test the hypothesis that the mean is greater than or equal to the median. \n",
    "\n",
    "You may use scipy functions to complete this, but complete all steps listed below.\n",
    "\n",
    "1. Define hypothesis\n",
    "2. Set alpha (Let alpha = 0.05)\n",
    "3. Calculate point estimate\n",
    "4. Calculate test statistic\n",
    "5. Find the p-value\n",
    "6. Interpret results"
   ]
  },
  {
   "cell_type": "code",
   "execution_count": 70,
   "metadata": {},
   "outputs": [
    {
     "name": "stdout",
     "output_type": "stream",
     "text": [
      "0.538\n",
      "0.5546950592885372\n"
     ]
    },
    {
     "data": {
      "text/plain": [
       "0.00061522964463428195"
      ]
     },
     "execution_count": 70,
     "metadata": {},
     "output_type": "execute_result"
    }
   ],
   "source": [
    "# A:\n",
    "# H0: the the mean != the median for NOX\n",
    "# HA: the mean is >= the median for NOX\n",
    "\n",
    "alpha1 = 0.05\n",
    "print(nox_median)\n",
    "print(nox_mean)\n",
    "nox_tstat = (nox_mean - nox_median)/ nox_se\n",
    "p = t.sf(np.abs(nox_tstat), len(NOX) * 2)\n",
    "p\n",
    "# we reject the null hypothesis because the p values shows that the null hypothesis has less than a 5% chance of occuring.So the NOX value is \n",
    "# greater than the median NOX value."
   ]
  },
  {
   "cell_type": "markdown",
   "metadata": {},
   "source": [
    "### 8. Compare the p-values from Exercise 5 and Exercise 7. What do you notice?"
   ]
  },
  {
   "cell_type": "code",
   "execution_count": 13,
   "metadata": {
    "collapsed": true
   },
   "outputs": [],
   "source": [
    "# A:Exercise 5 is a one side tail test whil exercise 7 is a two sided tail test."
   ]
  }
 ],
 "metadata": {
  "anaconda-cloud": {},
  "kernelspec": {
   "display_name": "Python 3",
   "language": "python",
   "name": "python3"
  },
  "language_info": {
   "codemirror_mode": {
    "name": "ipython",
    "version": 3
   },
   "file_extension": ".py",
   "mimetype": "text/x-python",
   "name": "python",
   "nbconvert_exporter": "python",
   "pygments_lexer": "ipython3",
   "version": "3.6.2"
  }
 },
 "nbformat": 4,
 "nbformat_minor": 1
}
