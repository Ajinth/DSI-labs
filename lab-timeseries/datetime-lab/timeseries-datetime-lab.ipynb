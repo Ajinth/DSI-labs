{
 "cells": [
  {
   "cell_type": "markdown",
   "metadata": {},
   "source": [
    "<img src=\"http://imgur.com/1ZcRyrc.png\" style=\"float: left; margin: 20px; height: 55px\">\n",
    "\n",
    "# Practice Using Timeseries Data and Datetime\n",
    "\n",
    "_Authors: Samuel Stack (DC)_\n",
    "\n",
    "---\n",
    "\n",
    "This lab covers the basics of manipulating datetime objects and using datetimes in pandas."
   ]
  },
  {
   "cell_type": "markdown",
   "metadata": {},
   "source": [
    "### 1. Create a datetime object representing today's date"
   ]
  },
  {
   "cell_type": "code",
   "execution_count": 4,
   "metadata": {},
   "outputs": [],
   "source": [
    "from datetime import datetime\n",
    "from datetime import timedelta\n",
    "import pandas as pd\n",
    "import numpy as np\n",
    "import matplotlib.pyplot as plt\n",
    "%matplotlib inline"
   ]
  },
  {
   "cell_type": "code",
   "execution_count": 2,
   "metadata": {},
   "outputs": [],
   "source": [
    "# A:\n",
    "df = datetime.now()"
   ]
  },
  {
   "cell_type": "code",
   "execution_count": 23,
   "metadata": {},
   "outputs": [
    {
     "ename": "TypeError",
     "evalue": "'int' object is not subscriptable",
     "output_type": "error",
     "traceback": [
      "\u001b[1;31m---------------------------------------------------------------------------\u001b[0m",
      "\u001b[1;31mTypeError\u001b[0m                                 Traceback (most recent call last)",
      "\u001b[1;32m<ipython-input-23-1a992fbd5d2c>\u001b[0m in \u001b[0;36m<module>\u001b[1;34m()\u001b[0m\n\u001b[1;32m----> 1\u001b[1;33m \u001b[0mdf\u001b[0m\u001b[1;33m.\u001b[0m\u001b[0mweekday\u001b[0m\u001b[1;33m(\u001b[0m\u001b[1;33m)\u001b[0m\u001b[1;33m[\u001b[0m\u001b[1;36m2\u001b[0m\u001b[1;33m]\u001b[0m\u001b[1;33m\u001b[0m\u001b[0m\n\u001b[0m",
      "\u001b[1;31mTypeError\u001b[0m: 'int' object is not subscriptable"
     ]
    }
   ],
   "source": [
    "df.weekday()[2]"
   ]
  },
  {
   "cell_type": "markdown",
   "metadata": {},
   "source": [
    "### 2. Write a function to print the day of the week for a datetime object."
   ]
  },
  {
   "cell_type": "code",
   "execution_count": 20,
   "metadata": {},
   "outputs": [],
   "source": [
    "# A:\n",
    "def day_of_week(date):\n",
    "    days_of_week = {0: 'monday', 1: 'tuesday', 2: 'wednesday', 3: 'thursday', 4: 'friday', 5: 'saturday', 6: 'sunday'}\n",
    "    return days_of_week[date.weekday()]"
   ]
  },
  {
   "cell_type": "code",
   "execution_count": 22,
   "metadata": {},
   "outputs": [
    {
     "data": {
      "text/plain": [
       "'tuesday'"
      ]
     },
     "execution_count": 22,
     "metadata": {},
     "output_type": "execute_result"
    }
   ],
   "source": [
    "day_of_week(df)"
   ]
  },
  {
   "cell_type": "markdown",
   "metadata": {},
   "source": [
    "### 3. What is the Gregorian ordinal representation of today's date? What is the difference in days between the ordinal representation of today's date and the ordinal representation of your birthday?\n",
    "\n",
    "> *Hint: `.toordinal()` will get you the ordinal representation. This is calculating the number of days between your birthday and today."
   ]
  },
  {
   "cell_type": "code",
   "execution_count": 26,
   "metadata": {},
   "outputs": [
    {
     "data": {
      "text/plain": [
       "10436"
      ]
     },
     "execution_count": 26,
     "metadata": {},
     "output_type": "execute_result"
    }
   ],
   "source": [
    "df.toordinal() - datetime(1989, 5, 17).toordinal()"
   ]
  },
  {
   "cell_type": "code",
   "execution_count": 27,
   "metadata": {},
   "outputs": [
    {
     "data": {
      "text/plain": [
       "28.59178082191781"
      ]
     },
     "execution_count": 27,
     "metadata": {},
     "output_type": "execute_result"
    }
   ],
   "source": [
    "10436/365"
   ]
  },
  {
   "cell_type": "markdown",
   "metadata": {},
   "source": [
    "### 4. Try using `timedelta` to shift our datetime object by the following intervals:\n",
    "- 1 hour ahead\n",
    "- 3 days ago\n",
    "- 1 year, 3 days, 2 seconds ahead"
   ]
  },
  {
   "cell_type": "code",
   "execution_count": 31,
   "metadata": {},
   "outputs": [
    {
     "data": {
      "text/plain": [
       "datetime.datetime(2017, 12, 12, 12, 37, 51, 87659)"
      ]
     },
     "execution_count": 31,
     "metadata": {},
     "output_type": "execute_result"
    }
   ],
   "source": [
    "offset1 = timedelta(hours=1)\n",
    "df + offset1"
   ]
  },
  {
   "cell_type": "code",
   "execution_count": 30,
   "metadata": {},
   "outputs": [
    {
     "data": {
      "text/plain": [
       "datetime.datetime(2017, 12, 9, 11, 37, 51, 87659)"
      ]
     },
     "execution_count": 30,
     "metadata": {},
     "output_type": "execute_result"
    }
   ],
   "source": [
    "offset2 = timedelta(days=3)\n",
    "df - offset2"
   ]
  },
  {
   "cell_type": "code",
   "execution_count": 35,
   "metadata": {},
   "outputs": [
    {
     "data": {
      "text/plain": [
       "datetime.datetime(2018, 12, 15, 11, 37, 53, 87659)"
      ]
     },
     "execution_count": 35,
     "metadata": {},
     "output_type": "execute_result"
    }
   ],
   "source": [
    "offset3 = timedelta(days=368, seconds=2)\n",
    "df + offset3"
   ]
  },
  {
   "cell_type": "markdown",
   "metadata": {},
   "source": [
    "### 5. Load one of the stock csvs in the datasets folder.\n",
    "\n",
    "Which you choose is up to you!"
   ]
  },
  {
   "cell_type": "code",
   "execution_count": 40,
   "metadata": {},
   "outputs": [
    {
     "data": {
      "text/html": [
       "<div>\n",
       "<style scoped>\n",
       "    .dataframe tbody tr th:only-of-type {\n",
       "        vertical-align: middle;\n",
       "    }\n",
       "\n",
       "    .dataframe tbody tr th {\n",
       "        vertical-align: top;\n",
       "    }\n",
       "\n",
       "    .dataframe thead th {\n",
       "        text-align: right;\n",
       "    }\n",
       "</style>\n",
       "<table border=\"1\" class=\"dataframe\">\n",
       "  <thead>\n",
       "    <tr style=\"text-align: right;\">\n",
       "      <th></th>\n",
       "      <th>Date</th>\n",
       "      <th>Open</th>\n",
       "      <th>High</th>\n",
       "      <th>Low</th>\n",
       "      <th>Close</th>\n",
       "      <th>Volume</th>\n",
       "    </tr>\n",
       "  </thead>\n",
       "  <tbody>\n",
       "    <tr>\n",
       "      <th>0</th>\n",
       "      <td>16-Jan-17</td>\n",
       "      <td>150.05</td>\n",
       "      <td>150.70</td>\n",
       "      <td>147.75</td>\n",
       "      <td>148.40</td>\n",
       "      <td>79341</td>\n",
       "    </tr>\n",
       "    <tr>\n",
       "      <th>1</th>\n",
       "      <td>13-Jan-17</td>\n",
       "      <td>151.85</td>\n",
       "      <td>154.00</td>\n",
       "      <td>149.95</td>\n",
       "      <td>151.75</td>\n",
       "      <td>112464</td>\n",
       "    </tr>\n",
       "    <tr>\n",
       "      <th>2</th>\n",
       "      <td>12-Jan-17</td>\n",
       "      <td>154.05</td>\n",
       "      <td>154.30</td>\n",
       "      <td>148.85</td>\n",
       "      <td>150.70</td>\n",
       "      <td>173155</td>\n",
       "    </tr>\n",
       "    <tr>\n",
       "      <th>3</th>\n",
       "      <td>11-Jan-17</td>\n",
       "      <td>149.05</td>\n",
       "      <td>153.65</td>\n",
       "      <td>148.80</td>\n",
       "      <td>153.15</td>\n",
       "      <td>181285</td>\n",
       "    </tr>\n",
       "    <tr>\n",
       "      <th>4</th>\n",
       "      <td>10-Jan-17</td>\n",
       "      <td>148.05</td>\n",
       "      <td>149.85</td>\n",
       "      <td>146.60</td>\n",
       "      <td>148.10</td>\n",
       "      <td>137786</td>\n",
       "    </tr>\n",
       "  </tbody>\n",
       "</table>\n",
       "</div>"
      ],
      "text/plain": [
       "        Date    Open    High     Low   Close  Volume\n",
       "0  16-Jan-17  150.05  150.70  147.75  148.40   79341\n",
       "1  13-Jan-17  151.85  154.00  149.95  151.75  112464\n",
       "2  12-Jan-17  154.05  154.30  148.85  150.70  173155\n",
       "3  11-Jan-17  149.05  153.65  148.80  153.15  181285\n",
       "4  10-Jan-17  148.05  149.85  146.60  148.10  137786"
      ]
     },
     "execution_count": 40,
     "metadata": {},
     "output_type": "execute_result"
    }
   ],
   "source": [
    "import pandas as pd\n",
    "from datetime import timedelta\n",
    "%matplotlib inline\n",
    "vow = pd.read_csv('./datasets/vow.csv')\n",
    "vow.head()"
   ]
  },
  {
   "cell_type": "markdown",
   "metadata": {},
   "source": [
    "### 6. Take a high-level look at the data. Describe it. What are we looking at? \n",
    "\n",
    "Use a plotting function to provide a good visual."
   ]
  },
  {
   "cell_type": "code",
   "execution_count": 41,
   "metadata": {},
   "outputs": [
    {
     "data": {
      "text/plain": [
       "<matplotlib.axes._subplots.AxesSubplot at 0x1edf3882f60>"
      ]
     },
     "execution_count": 41,
     "metadata": {},
     "output_type": "execute_result"
    },
    {
     "data": {
      "image/png": "[encoded data removed]",
      "text/plain": [
       "<matplotlib.figure.Figure at 0x1edf38829b0>"
      ]
     },
     "metadata": {},
     "output_type": "display_data"
    }
   ],
   "source": [
    "vow.plot()"
   ]
  },
  {
   "cell_type": "code",
   "execution_count": 42,
   "metadata": {
    "scrolled": true
   },
   "outputs": [
    {
     "data": {
      "text/html": [
       "<div>\n",
       "<style scoped>\n",
       "    .dataframe tbody tr th:only-of-type {\n",
       "        vertical-align: middle;\n",
       "    }\n",
       "\n",
       "    .dataframe tbody tr th {\n",
       "        vertical-align: top;\n",
       "    }\n",
       "\n",
       "    .dataframe thead th {\n",
       "        text-align: right;\n",
       "    }\n",
       "</style>\n",
       "<table border=\"1\" class=\"dataframe\">\n",
       "  <thead>\n",
       "    <tr style=\"text-align: right;\">\n",
       "      <th></th>\n",
       "      <th>Open</th>\n",
       "      <th>High</th>\n",
       "      <th>Low</th>\n",
       "      <th>Close</th>\n",
       "      <th>Volume</th>\n",
       "    </tr>\n",
       "  </thead>\n",
       "  <tbody>\n",
       "    <tr>\n",
       "      <th>count</th>\n",
       "      <td>255.000000</td>\n",
       "      <td>255.000000</td>\n",
       "      <td>255.000000</td>\n",
       "      <td>255.000000</td>\n",
       "      <td>255.000000</td>\n",
       "    </tr>\n",
       "    <tr>\n",
       "      <th>mean</th>\n",
       "      <td>130.380000</td>\n",
       "      <td>132.168235</td>\n",
       "      <td>128.580588</td>\n",
       "      <td>130.415882</td>\n",
       "      <td>96009.898039</td>\n",
       "    </tr>\n",
       "    <tr>\n",
       "      <th>std</th>\n",
       "      <td>7.031538</td>\n",
       "      <td>6.992833</td>\n",
       "      <td>7.398405</td>\n",
       "      <td>7.308949</td>\n",
       "      <td>51570.127117</td>\n",
       "    </tr>\n",
       "    <tr>\n",
       "      <th>min</th>\n",
       "      <td>110.950000</td>\n",
       "      <td>111.000000</td>\n",
       "      <td>106.650000</td>\n",
       "      <td>108.950000</td>\n",
       "      <td>18273.000000</td>\n",
       "    </tr>\n",
       "    <tr>\n",
       "      <th>25%</th>\n",
       "      <td>127.000000</td>\n",
       "      <td>128.600000</td>\n",
       "      <td>125.275000</td>\n",
       "      <td>126.875000</td>\n",
       "      <td>63276.500000</td>\n",
       "    </tr>\n",
       "    <tr>\n",
       "      <th>50%</th>\n",
       "      <td>130.450000</td>\n",
       "      <td>131.950000</td>\n",
       "      <td>128.900000</td>\n",
       "      <td>130.450000</td>\n",
       "      <td>84373.000000</td>\n",
       "    </tr>\n",
       "    <tr>\n",
       "      <th>75%</th>\n",
       "      <td>134.475000</td>\n",
       "      <td>136.150000</td>\n",
       "      <td>132.575000</td>\n",
       "      <td>134.600000</td>\n",
       "      <td>114860.500000</td>\n",
       "    </tr>\n",
       "    <tr>\n",
       "      <th>max</th>\n",
       "      <td>154.050000</td>\n",
       "      <td>154.300000</td>\n",
       "      <td>149.950000</td>\n",
       "      <td>153.150000</td>\n",
       "      <td>374850.000000</td>\n",
       "    </tr>\n",
       "  </tbody>\n",
       "</table>\n",
       "</div>"
      ],
      "text/plain": [
       "             Open        High         Low       Close         Volume\n",
       "count  255.000000  255.000000  255.000000  255.000000     255.000000\n",
       "mean   130.380000  132.168235  128.580588  130.415882   96009.898039\n",
       "std      7.031538    6.992833    7.398405    7.308949   51570.127117\n",
       "min    110.950000  111.000000  106.650000  108.950000   18273.000000\n",
       "25%    127.000000  128.600000  125.275000  126.875000   63276.500000\n",
       "50%    130.450000  131.950000  128.900000  130.450000   84373.000000\n",
       "75%    134.475000  136.150000  132.575000  134.600000  114860.500000\n",
       "max    154.050000  154.300000  149.950000  153.150000  374850.000000"
      ]
     },
     "execution_count": 42,
     "metadata": {},
     "output_type": "execute_result"
    }
   ],
   "source": [
    "vow.describe()"
   ]
  },
  {
   "cell_type": "code",
   "execution_count": 45,
   "metadata": {},
   "outputs": [
    {
     "data": {
      "text/plain": [
       "<matplotlib.axes._subplots.AxesSubplot at 0x1edf3d7a978>"
      ]
     },
     "execution_count": 45,
     "metadata": {},
     "output_type": "execute_result"
    },
    {
     "data": {
      "image/png": "[encoded data removed]",
      "text/plain": [
       "<matplotlib.figure.Figure at 0x1edf3a16550>"
      ]
     },
     "metadata": {},
     "output_type": "display_data"
    }
   ],
   "source": [
    "vow[['Open', 'High', 'Low', 'Close']].plot()"
   ]
  },
  {
   "cell_type": "code",
   "execution_count": 46,
   "metadata": {},
   "outputs": [],
   "source": [
    "vow['Date'] = pd.to_datetime(vow['Date'])"
   ]
  },
  {
   "cell_type": "code",
   "execution_count": 48,
   "metadata": {},
   "outputs": [],
   "source": [
    "vow.set_index('Date', inplace=True)"
   ]
  },
  {
   "cell_type": "code",
   "execution_count": 49,
   "metadata": {},
   "outputs": [
    {
     "data": {
      "text/html": [
       "<div>\n",
       "<style scoped>\n",
       "    .dataframe tbody tr th:only-of-type {\n",
       "        vertical-align: middle;\n",
       "    }\n",
       "\n",
       "    .dataframe tbody tr th {\n",
       "        vertical-align: top;\n",
       "    }\n",
       "\n",
       "    .dataframe thead th {\n",
       "        text-align: right;\n",
       "    }\n",
       "</style>\n",
       "<table border=\"1\" class=\"dataframe\">\n",
       "  <thead>\n",
       "    <tr style=\"text-align: right;\">\n",
       "      <th></th>\n",
       "      <th>Open</th>\n",
       "      <th>High</th>\n",
       "      <th>Low</th>\n",
       "      <th>Close</th>\n",
       "      <th>Volume</th>\n",
       "    </tr>\n",
       "    <tr>\n",
       "      <th>Date</th>\n",
       "      <th></th>\n",
       "      <th></th>\n",
       "      <th></th>\n",
       "      <th></th>\n",
       "      <th></th>\n",
       "    </tr>\n",
       "  </thead>\n",
       "  <tbody>\n",
       "    <tr>\n",
       "      <th>2017-01-16</th>\n",
       "      <td>150.05</td>\n",
       "      <td>150.70</td>\n",
       "      <td>147.75</td>\n",
       "      <td>148.40</td>\n",
       "      <td>79341</td>\n",
       "    </tr>\n",
       "    <tr>\n",
       "      <th>2017-01-13</th>\n",
       "      <td>151.85</td>\n",
       "      <td>154.00</td>\n",
       "      <td>149.95</td>\n",
       "      <td>151.75</td>\n",
       "      <td>112464</td>\n",
       "    </tr>\n",
       "    <tr>\n",
       "      <th>2017-01-12</th>\n",
       "      <td>154.05</td>\n",
       "      <td>154.30</td>\n",
       "      <td>148.85</td>\n",
       "      <td>150.70</td>\n",
       "      <td>173155</td>\n",
       "    </tr>\n",
       "    <tr>\n",
       "      <th>2017-01-11</th>\n",
       "      <td>149.05</td>\n",
       "      <td>153.65</td>\n",
       "      <td>148.80</td>\n",
       "      <td>153.15</td>\n",
       "      <td>181285</td>\n",
       "    </tr>\n",
       "    <tr>\n",
       "      <th>2017-01-10</th>\n",
       "      <td>148.05</td>\n",
       "      <td>149.85</td>\n",
       "      <td>146.60</td>\n",
       "      <td>148.10</td>\n",
       "      <td>137786</td>\n",
       "    </tr>\n",
       "  </tbody>\n",
       "</table>\n",
       "</div>"
      ],
      "text/plain": [
       "              Open    High     Low   Close  Volume\n",
       "Date                                              \n",
       "2017-01-16  150.05  150.70  147.75  148.40   79341\n",
       "2017-01-13  151.85  154.00  149.95  151.75  112464\n",
       "2017-01-12  154.05  154.30  148.85  150.70  173155\n",
       "2017-01-11  149.05  153.65  148.80  153.15  181285\n",
       "2017-01-10  148.05  149.85  146.60  148.10  137786"
      ]
     },
     "execution_count": 49,
     "metadata": {},
     "output_type": "execute_result"
    }
   ],
   "source": [
    "vow.head()"
   ]
  },
  {
   "cell_type": "markdown",
   "metadata": {},
   "source": [
    "### 8. Add columns with useful data extracted from the DateTime index.\n",
    "\n",
    "Make at least three columns, one for day, month, and year.\n"
   ]
  },
  {
   "cell_type": "code",
   "execution_count": 53,
   "metadata": {},
   "outputs": [],
   "source": [
    "# A:\n",
    "vow['Day'] = vow.index.day\n",
    "vow['month'] = vow.index.month\n",
    "vow['year'] = vow.index.year"
   ]
  },
  {
   "cell_type": "code",
   "execution_count": 54,
   "metadata": {},
   "outputs": [
    {
     "data": {
      "text/html": [
       "<div>\n",
       "<style scoped>\n",
       "    .dataframe tbody tr th:only-of-type {\n",
       "        vertical-align: middle;\n",
       "    }\n",
       "\n",
       "    .dataframe tbody tr th {\n",
       "        vertical-align: top;\n",
       "    }\n",
       "\n",
       "    .dataframe thead th {\n",
       "        text-align: right;\n",
       "    }\n",
       "</style>\n",
       "<table border=\"1\" class=\"dataframe\">\n",
       "  <thead>\n",
       "    <tr style=\"text-align: right;\">\n",
       "      <th></th>\n",
       "      <th>Open</th>\n",
       "      <th>High</th>\n",
       "      <th>Low</th>\n",
       "      <th>Close</th>\n",
       "      <th>Volume</th>\n",
       "      <th>Day</th>\n",
       "      <th>month</th>\n",
       "      <th>year</th>\n",
       "    </tr>\n",
       "    <tr>\n",
       "      <th>Date</th>\n",
       "      <th></th>\n",
       "      <th></th>\n",
       "      <th></th>\n",
       "      <th></th>\n",
       "      <th></th>\n",
       "      <th></th>\n",
       "      <th></th>\n",
       "      <th></th>\n",
       "    </tr>\n",
       "  </thead>\n",
       "  <tbody>\n",
       "    <tr>\n",
       "      <th>2017-01-16</th>\n",
       "      <td>150.05</td>\n",
       "      <td>150.70</td>\n",
       "      <td>147.75</td>\n",
       "      <td>148.40</td>\n",
       "      <td>79341</td>\n",
       "      <td>16</td>\n",
       "      <td>1</td>\n",
       "      <td>2017</td>\n",
       "    </tr>\n",
       "    <tr>\n",
       "      <th>2017-01-13</th>\n",
       "      <td>151.85</td>\n",
       "      <td>154.00</td>\n",
       "      <td>149.95</td>\n",
       "      <td>151.75</td>\n",
       "      <td>112464</td>\n",
       "      <td>13</td>\n",
       "      <td>1</td>\n",
       "      <td>2017</td>\n",
       "    </tr>\n",
       "    <tr>\n",
       "      <th>2017-01-12</th>\n",
       "      <td>154.05</td>\n",
       "      <td>154.30</td>\n",
       "      <td>148.85</td>\n",
       "      <td>150.70</td>\n",
       "      <td>173155</td>\n",
       "      <td>12</td>\n",
       "      <td>1</td>\n",
       "      <td>2017</td>\n",
       "    </tr>\n",
       "    <tr>\n",
       "      <th>2017-01-11</th>\n",
       "      <td>149.05</td>\n",
       "      <td>153.65</td>\n",
       "      <td>148.80</td>\n",
       "      <td>153.15</td>\n",
       "      <td>181285</td>\n",
       "      <td>11</td>\n",
       "      <td>1</td>\n",
       "      <td>2017</td>\n",
       "    </tr>\n",
       "    <tr>\n",
       "      <th>2017-01-10</th>\n",
       "      <td>148.05</td>\n",
       "      <td>149.85</td>\n",
       "      <td>146.60</td>\n",
       "      <td>148.10</td>\n",
       "      <td>137786</td>\n",
       "      <td>10</td>\n",
       "      <td>1</td>\n",
       "      <td>2017</td>\n",
       "    </tr>\n",
       "  </tbody>\n",
       "</table>\n",
       "</div>"
      ],
      "text/plain": [
       "              Open    High     Low   Close  Volume  Day  month  year\n",
       "Date                                                                \n",
       "2017-01-16  150.05  150.70  147.75  148.40   79341   16      1  2017\n",
       "2017-01-13  151.85  154.00  149.95  151.75  112464   13      1  2017\n",
       "2017-01-12  154.05  154.30  148.85  150.70  173155   12      1  2017\n",
       "2017-01-11  149.05  153.65  148.80  153.15  181285   11      1  2017\n",
       "2017-01-10  148.05  149.85  146.60  148.10  137786   10      1  2017"
      ]
     },
     "execution_count": 54,
     "metadata": {},
     "output_type": "execute_result"
    }
   ],
   "source": [
    "vow.head()"
   ]
  },
  {
   "cell_type": "code",
   "execution_count": 56,
   "metadata": {},
   "outputs": [
    {
     "data": {
      "text/plain": [
       "(11, 8)"
      ]
     },
     "execution_count": 56,
     "metadata": {},
     "output_type": "execute_result"
    }
   ],
   "source": [
    "vow['2017'].shape"
   ]
  },
  {
   "cell_type": "markdown",
   "metadata": {},
   "source": [
    "### 9. Create a subset of the data containing only 2017 dates."
   ]
  },
  {
   "cell_type": "code",
   "execution_count": 12,
   "metadata": {},
   "outputs": [],
   "source": [
    "# A:"
   ]
  },
  {
   "cell_type": "markdown",
   "metadata": {},
   "source": [
    "### 10. [Example] Date ranges and frequencies.\n",
    "\n",
    "Explore the following built-in methods:\n",
    "- What does `asfreq` do?\n",
    "> - _Convert TimeSeries to specified frequency._\n",
    "\n",
    "- What does `resample` do?\n",
    "> - _Convenience method for frequency conversion and resampling of time series. Object must have a datetime-like index (DatetimeIndex, PeriodIndex, or TimedeltaIndex), or pass datetime-like values to the on or level keyword._\n",
    "\n",
    "We can also create our own date ranges using a built in function, `date_range`. The `periods` and `freq` keyword arguments grant the user finegrained control over the resulting values. To reset the time data, use the `normalize=True` directive.\n"
   ]
  },
  {
   "cell_type": "code",
   "execution_count": 57,
   "metadata": {},
   "outputs": [
    {
     "data": {
      "text/plain": [
       "DatetimeIndex(['2012-03-07', '2012-03-08', '2012-03-09', '2012-03-10',\n",
       "               '2012-03-11', '2012-03-12'],\n",
       "              dtype='datetime64[ns]', freq='D')"
      ]
     },
     "execution_count": 57,
     "metadata": {},
     "output_type": "execute_result"
    }
   ],
   "source": [
    "index = pd.date_range('3/1/2016', '6/1/2016')\n",
    "\n",
    "# Specifify a start point and how many periods after\n",
    "pd.date_range(start='3/1/2016', periods=20)\n",
    "\n",
    "#Specify a end point and how many periods before\n",
    "pd.date_range(end='6/1/2016', periods=20)\n",
    "\n",
    "# Frequency specifyins the length of the periods the default 'D' being daily.  I imagine BM is Bi-Monthly\n",
    "pd.date_range('1/1/2016', '12/1/2016', freq='BM')\n",
    "\n",
    "pd.date_range('3/7/2016 12:56:31', periods=6)\n",
    "# normalize creates normal daily times, and will make the default time for each day midnight.\n",
    "pd.date_range('3/7/2012 12:56:31', periods=6, normalize=True)"
   ]
  },
  {
   "cell_type": "markdown",
   "metadata": {},
   "source": [
    "We are also given a Period object, which can be used to represent a time interval. The Period object consists of a start time and an end time, and can be created by providing a start time and a given frequency."
   ]
  },
  {
   "cell_type": "code",
   "execution_count": 14,
   "metadata": {},
   "outputs": [
    {
     "name": "stdout",
     "output_type": "stream",
     "text": [
      "2016-03-01 00:00:00\n",
      "2016-03-31 23:59:59.999999999\n"
     ]
    }
   ],
   "source": [
    "# March 2016 was our start period, and the period frequency is months.\n",
    "march_2016 = pd.Period('2016-03', freq='M')\n",
    "\n",
    "print(march_2016.start_time)\n",
    "print(march_2016.end_time)"
   ]
  }
 ],
 "metadata": {
  "kernelspec": {
   "display_name": "Python 3",
   "language": "python",
   "name": "python3"
  },
  "language_info": {
   "codemirror_mode": {
    "name": "ipython",
    "version": 3
   },
   "file_extension": ".py",
   "mimetype": "text/x-python",
   "name": "python",
   "nbconvert_exporter": "python",
   "pygments_lexer": "ipython3",
   "version": "3.6.3"
  }
 },
 "nbformat": 4,
 "nbformat_minor": 2
}
